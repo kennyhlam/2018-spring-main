{
 "cells": [
  {
   "cell_type": "markdown",
   "metadata": {},
   "source": [
    "# Week 3: Language Modeling I\n",
    "\n",
    "In this week's section, we'll explore basic techniques for language modeling. \n",
    "\n",
    "We'll first dig into word distributions to illustrate the sparsity problem and the difficulty of prediction.\n",
    "\n",
    "Then, we'll look at a simple N-gram language model and generate some sample sentences. In the homework, you'll extend this by implementing smoothing techniques that improve performance, and perform some more detailed analysis of the model.\n",
    "\n",
    "**Note:** if you're viewing this in-browser, jump over to the NBViewer link. This will get around GitHub's JavaScript block and properly render the plots:  \n",
    "http://nbviewer.jupyter.org/github/datasci-w266/2018-spring-main/blob/master/materials/simple_lm/lm1.ipynb\n",
    "\n",
    "We'll use [Bokeh](https://bokeh.pydata.org/en/latest/docs/user_guide/quickstart.html) for plotting some data in this notebook. It's similar to `matplotlib`, but renders JavaScript-based plots that support more interactive control."
   ]
  },
  {
   "cell_type": "code",
   "execution_count": 1,
   "metadata": {},
   "outputs": [
    {
     "data": {
      "text/html": [
       "\n",
       "    <div class=\"bk-root\">\n",
       "        <a href=\"https://bokeh.pydata.org\" target=\"_blank\" class=\"bk-logo bk-logo-small bk-logo-notebook\"></a>\n",
       "        <span id=\"d2c70962-7e4e-4b41-96d9-01b2160ff6b0\">Loading BokehJS ...</span>\n",
       "    </div>"
      ]
     },
     "metadata": {},
     "output_type": "display_data"
    },
    {
     "data": {
      "application/javascript": [
       "\n",
       "(function(root) {\n",
       "  function now() {\n",
       "    return new Date();\n",
       "  }\n",
       "\n",
       "  var force = true;\n",
       "\n",
       "  if (typeof (root._bokeh_onload_callbacks) === \"undefined\" || force === true) {\n",
       "    root._bokeh_onload_callbacks = [];\n",
       "    root._bokeh_is_loading = undefined;\n",
       "  }\n",
       "\n",
       "  var JS_MIME_TYPE = 'application/javascript';\n",
       "  var HTML_MIME_TYPE = 'text/html';\n",
       "  var EXEC_MIME_TYPE = 'application/vnd.bokehjs_exec.v0+json';\n",
       "  var CLASS_NAME = 'output_bokeh rendered_html';\n",
       "\n",
       "  /**\n",
       "   * Render data to the DOM node\n",
       "   */\n",
       "  function render(props, node) {\n",
       "    var script = document.createElement(\"script\");\n",
       "    node.appendChild(script);\n",
       "  }\n",
       "\n",
       "  /**\n",
       "   * Handle when an output is cleared or removed\n",
       "   */\n",
       "  function handleClearOutput(event, handle) {\n",
       "    var cell = handle.cell;\n",
       "\n",
       "    var id = cell.output_area._bokeh_element_id;\n",
       "    var server_id = cell.output_area._bokeh_server_id;\n",
       "    // Clean up Bokeh references\n",
       "    if (id !== undefined) {\n",
       "      Bokeh.index[id].model.document.clear();\n",
       "      delete Bokeh.index[id];\n",
       "    }\n",
       "\n",
       "    if (server_id !== undefined) {\n",
       "      // Clean up Bokeh references\n",
       "      var cmd = \"from bokeh.io.state import curstate; print(curstate().uuid_to_server['\" + server_id + \"'].get_sessions()[0].document.roots[0]._id)\";\n",
       "      cell.notebook.kernel.execute(cmd, {\n",
       "        iopub: {\n",
       "          output: function(msg) {\n",
       "            var element_id = msg.content.text.trim();\n",
       "            Bokeh.index[element_id].model.document.clear();\n",
       "            delete Bokeh.index[element_id];\n",
       "          }\n",
       "        }\n",
       "      });\n",
       "      // Destroy server and session\n",
       "      var cmd = \"import bokeh.io.notebook as ion; ion.destroy_server('\" + server_id + \"')\";\n",
       "      cell.notebook.kernel.execute(cmd);\n",
       "    }\n",
       "  }\n",
       "\n",
       "  /**\n",
       "   * Handle when a new output is added\n",
       "   */\n",
       "  function handleAddOutput(event, handle) {\n",
       "    var output_area = handle.output_area;\n",
       "    var output = handle.output;\n",
       "\n",
       "    // limit handleAddOutput to display_data with EXEC_MIME_TYPE content only\n",
       "    if ((output.output_type != \"display_data\") || (!output.data.hasOwnProperty(EXEC_MIME_TYPE))) {\n",
       "      return\n",
       "    }\n",
       "\n",
       "    var toinsert = output_area.element.find(`.${CLASS_NAME.split(' ')[0]}`);\n",
       "\n",
       "    if (output.metadata[EXEC_MIME_TYPE][\"id\"] !== undefined) {\n",
       "      toinsert[0].firstChild.textContent = output.data[JS_MIME_TYPE];\n",
       "      // store reference to embed id on output_area\n",
       "      output_area._bokeh_element_id = output.metadata[EXEC_MIME_TYPE][\"id\"];\n",
       "    }\n",
       "    if (output.metadata[EXEC_MIME_TYPE][\"server_id\"] !== undefined) {\n",
       "      var bk_div = document.createElement(\"div\");\n",
       "      bk_div.innerHTML = output.data[HTML_MIME_TYPE];\n",
       "      var script_attrs = bk_div.children[0].attributes;\n",
       "      for (var i = 0; i < script_attrs.length; i++) {\n",
       "        toinsert[0].firstChild.setAttribute(script_attrs[i].name, script_attrs[i].value);\n",
       "      }\n",
       "      // store reference to server id on output_area\n",
       "      output_area._bokeh_server_id = output.metadata[EXEC_MIME_TYPE][\"server_id\"];\n",
       "    }\n",
       "  }\n",
       "\n",
       "  function register_renderer(events, OutputArea) {\n",
       "\n",
       "    function append_mime(data, metadata, element) {\n",
       "      // create a DOM node to render to\n",
       "      var toinsert = this.create_output_subarea(\n",
       "        metadata,\n",
       "        CLASS_NAME,\n",
       "        EXEC_MIME_TYPE\n",
       "      );\n",
       "      this.keyboard_manager.register_events(toinsert);\n",
       "      // Render to node\n",
       "      var props = {data: data, metadata: metadata[EXEC_MIME_TYPE]};\n",
       "      render(props, toinsert[0]);\n",
       "      element.append(toinsert);\n",
       "      return toinsert\n",
       "    }\n",
       "\n",
       "    /* Handle when an output is cleared or removed */\n",
       "    events.on('clear_output.CodeCell', handleClearOutput);\n",
       "    events.on('delete.Cell', handleClearOutput);\n",
       "\n",
       "    /* Handle when a new output is added */\n",
       "    events.on('output_added.OutputArea', handleAddOutput);\n",
       "\n",
       "    /**\n",
       "     * Register the mime type and append_mime function with output_area\n",
       "     */\n",
       "    OutputArea.prototype.register_mime_type(EXEC_MIME_TYPE, append_mime, {\n",
       "      /* Is output safe? */\n",
       "      safe: true,\n",
       "      /* Index of renderer in `output_area.display_order` */\n",
       "      index: 0\n",
       "    });\n",
       "  }\n",
       "\n",
       "  // register the mime type if in Jupyter Notebook environment and previously unregistered\n",
       "  if (root.Jupyter !== undefined) {\n",
       "    var events = require('base/js/events');\n",
       "    var OutputArea = require('notebook/js/outputarea').OutputArea;\n",
       "\n",
       "    if (OutputArea.prototype.mime_types().indexOf(EXEC_MIME_TYPE) == -1) {\n",
       "      register_renderer(events, OutputArea);\n",
       "    }\n",
       "  }\n",
       "\n",
       "  \n",
       "  if (typeof (root._bokeh_timeout) === \"undefined\" || force === true) {\n",
       "    root._bokeh_timeout = Date.now() + 5000;\n",
       "    root._bokeh_failed_load = false;\n",
       "  }\n",
       "\n",
       "  var NB_LOAD_WARNING = {'data': {'text/html':\n",
       "     \"<div style='background-color: #fdd'>\\n\"+\n",
       "     \"<p>\\n\"+\n",
       "     \"BokehJS does not appear to have successfully loaded. If loading BokehJS from CDN, this \\n\"+\n",
       "     \"may be due to a slow or bad network connection. Possible fixes:\\n\"+\n",
       "     \"</p>\\n\"+\n",
       "     \"<ul>\\n\"+\n",
       "     \"<li>re-rerun `output_notebook()` to attempt to load from CDN again, or</li>\\n\"+\n",
       "     \"<li>use INLINE resources instead, as so:</li>\\n\"+\n",
       "     \"</ul>\\n\"+\n",
       "     \"<code>\\n\"+\n",
       "     \"from bokeh.resources import INLINE\\n\"+\n",
       "     \"output_notebook(resources=INLINE)\\n\"+\n",
       "     \"</code>\\n\"+\n",
       "     \"</div>\"}};\n",
       "\n",
       "  function display_loaded() {\n",
       "    var el = document.getElementById(\"d2c70962-7e4e-4b41-96d9-01b2160ff6b0\");\n",
       "    if (el != null) {\n",
       "      el.textContent = \"BokehJS is loading...\";\n",
       "    }\n",
       "    if (root.Bokeh !== undefined) {\n",
       "      if (el != null) {\n",
       "        el.textContent = \"BokehJS \" + root.Bokeh.version + \" successfully loaded.\";\n",
       "      }\n",
       "    } else if (Date.now() < root._bokeh_timeout) {\n",
       "      setTimeout(display_loaded, 100)\n",
       "    }\n",
       "  }\n",
       "\n",
       "\n",
       "  function run_callbacks() {\n",
       "    try {\n",
       "      root._bokeh_onload_callbacks.forEach(function(callback) { callback() });\n",
       "    }\n",
       "    finally {\n",
       "      delete root._bokeh_onload_callbacks\n",
       "    }\n",
       "    console.info(\"Bokeh: all callbacks have finished\");\n",
       "  }\n",
       "\n",
       "  function load_libs(js_urls, callback) {\n",
       "    root._bokeh_onload_callbacks.push(callback);\n",
       "    if (root._bokeh_is_loading > 0) {\n",
       "      console.log(\"Bokeh: BokehJS is being loaded, scheduling callback at\", now());\n",
       "      return null;\n",
       "    }\n",
       "    if (js_urls == null || js_urls.length === 0) {\n",
       "      run_callbacks();\n",
       "      return null;\n",
       "    }\n",
       "    console.log(\"Bokeh: BokehJS not loaded, scheduling load and callback at\", now());\n",
       "    root._bokeh_is_loading = js_urls.length;\n",
       "    for (var i = 0; i < js_urls.length; i++) {\n",
       "      var url = js_urls[i];\n",
       "      var s = document.createElement('script');\n",
       "      s.src = url;\n",
       "      s.async = false;\n",
       "      s.onreadystatechange = s.onload = function() {\n",
       "        root._bokeh_is_loading--;\n",
       "        if (root._bokeh_is_loading === 0) {\n",
       "          console.log(\"Bokeh: all BokehJS libraries loaded\");\n",
       "          run_callbacks()\n",
       "        }\n",
       "      };\n",
       "      s.onerror = function() {\n",
       "        console.warn(\"failed to load library \" + url);\n",
       "      };\n",
       "      console.log(\"Bokeh: injecting script tag for BokehJS library: \", url);\n",
       "      document.getElementsByTagName(\"head\")[0].appendChild(s);\n",
       "    }\n",
       "  };var element = document.getElementById(\"d2c70962-7e4e-4b41-96d9-01b2160ff6b0\");\n",
       "  if (element == null) {\n",
       "    console.log(\"Bokeh: ERROR: autoload.js configured with elementid 'd2c70962-7e4e-4b41-96d9-01b2160ff6b0' but no matching script tag was found. \")\n",
       "    return false;\n",
       "  }\n",
       "\n",
       "  var js_urls = [\"https://cdn.pydata.org/bokeh/release/bokeh-0.12.10.min.js\", \"https://cdn.pydata.org/bokeh/release/bokeh-widgets-0.12.10.min.js\", \"https://cdn.pydata.org/bokeh/release/bokeh-tables-0.12.10.min.js\", \"https://cdn.pydata.org/bokeh/release/bokeh-gl-0.12.10.min.js\"];\n",
       "\n",
       "  var inline_js = [\n",
       "    function(Bokeh) {\n",
       "      Bokeh.set_log_level(\"info\");\n",
       "    },\n",
       "    \n",
       "    function(Bokeh) {\n",
       "      \n",
       "    },\n",
       "    function(Bokeh) {\n",
       "      console.log(\"Bokeh: injecting CSS: https://cdn.pydata.org/bokeh/release/bokeh-0.12.10.min.css\");\n",
       "      Bokeh.embed.inject_css(\"https://cdn.pydata.org/bokeh/release/bokeh-0.12.10.min.css\");\n",
       "      console.log(\"Bokeh: injecting CSS: https://cdn.pydata.org/bokeh/release/bokeh-widgets-0.12.10.min.css\");\n",
       "      Bokeh.embed.inject_css(\"https://cdn.pydata.org/bokeh/release/bokeh-widgets-0.12.10.min.css\");\n",
       "      console.log(\"Bokeh: injecting CSS: https://cdn.pydata.org/bokeh/release/bokeh-tables-0.12.10.min.css\");\n",
       "      Bokeh.embed.inject_css(\"https://cdn.pydata.org/bokeh/release/bokeh-tables-0.12.10.min.css\");\n",
       "    }\n",
       "  ];\n",
       "\n",
       "  function run_inline_js() {\n",
       "    \n",
       "    if ((root.Bokeh !== undefined) || (force === true)) {\n",
       "      for (var i = 0; i < inline_js.length; i++) {\n",
       "        inline_js[i].call(root, root.Bokeh);\n",
       "      }if (force === true) {\n",
       "        display_loaded();\n",
       "      }} else if (Date.now() < root._bokeh_timeout) {\n",
       "      setTimeout(run_inline_js, 100);\n",
       "    } else if (!root._bokeh_failed_load) {\n",
       "      console.log(\"Bokeh: BokehJS failed to load within specified timeout.\");\n",
       "      root._bokeh_failed_load = true;\n",
       "    } else if (force !== true) {\n",
       "      var cell = $(document.getElementById(\"d2c70962-7e4e-4b41-96d9-01b2160ff6b0\")).parents('.cell').data().cell;\n",
       "      cell.output_area.append_execute_result(NB_LOAD_WARNING)\n",
       "    }\n",
       "\n",
       "  }\n",
       "\n",
       "  if (root._bokeh_is_loading === 0) {\n",
       "    console.log(\"Bokeh: BokehJS loaded, going straight to plotting\");\n",
       "    run_inline_js();\n",
       "  } else {\n",
       "    load_libs(js_urls, function() {\n",
       "      console.log(\"Bokeh: BokehJS plotting callback run at\", now());\n",
       "      run_inline_js();\n",
       "    });\n",
       "  }\n",
       "}(window));"
      ],
      "application/vnd.bokehjs_load.v0+json": "\n(function(root) {\n  function now() {\n    return new Date();\n  }\n\n  var force = true;\n\n  if (typeof (root._bokeh_onload_callbacks) === \"undefined\" || force === true) {\n    root._bokeh_onload_callbacks = [];\n    root._bokeh_is_loading = undefined;\n  }\n\n  \n\n  \n  if (typeof (root._bokeh_timeout) === \"undefined\" || force === true) {\n    root._bokeh_timeout = Date.now() + 5000;\n    root._bokeh_failed_load = false;\n  }\n\n  var NB_LOAD_WARNING = {'data': {'text/html':\n     \"<div style='background-color: #fdd'>\\n\"+\n     \"<p>\\n\"+\n     \"BokehJS does not appear to have successfully loaded. If loading BokehJS from CDN, this \\n\"+\n     \"may be due to a slow or bad network connection. Possible fixes:\\n\"+\n     \"</p>\\n\"+\n     \"<ul>\\n\"+\n     \"<li>re-rerun `output_notebook()` to attempt to load from CDN again, or</li>\\n\"+\n     \"<li>use INLINE resources instead, as so:</li>\\n\"+\n     \"</ul>\\n\"+\n     \"<code>\\n\"+\n     \"from bokeh.resources import INLINE\\n\"+\n     \"output_notebook(resources=INLINE)\\n\"+\n     \"</code>\\n\"+\n     \"</div>\"}};\n\n  function display_loaded() {\n    var el = document.getElementById(\"d2c70962-7e4e-4b41-96d9-01b2160ff6b0\");\n    if (el != null) {\n      el.textContent = \"BokehJS is loading...\";\n    }\n    if (root.Bokeh !== undefined) {\n      if (el != null) {\n        el.textContent = \"BokehJS \" + root.Bokeh.version + \" successfully loaded.\";\n      }\n    } else if (Date.now() < root._bokeh_timeout) {\n      setTimeout(display_loaded, 100)\n    }\n  }\n\n\n  function run_callbacks() {\n    try {\n      root._bokeh_onload_callbacks.forEach(function(callback) { callback() });\n    }\n    finally {\n      delete root._bokeh_onload_callbacks\n    }\n    console.info(\"Bokeh: all callbacks have finished\");\n  }\n\n  function load_libs(js_urls, callback) {\n    root._bokeh_onload_callbacks.push(callback);\n    if (root._bokeh_is_loading > 0) {\n      console.log(\"Bokeh: BokehJS is being loaded, scheduling callback at\", now());\n      return null;\n    }\n    if (js_urls == null || js_urls.length === 0) {\n      run_callbacks();\n      return null;\n    }\n    console.log(\"Bokeh: BokehJS not loaded, scheduling load and callback at\", now());\n    root._bokeh_is_loading = js_urls.length;\n    for (var i = 0; i < js_urls.length; i++) {\n      var url = js_urls[i];\n      var s = document.createElement('script');\n      s.src = url;\n      s.async = false;\n      s.onreadystatechange = s.onload = function() {\n        root._bokeh_is_loading--;\n        if (root._bokeh_is_loading === 0) {\n          console.log(\"Bokeh: all BokehJS libraries loaded\");\n          run_callbacks()\n        }\n      };\n      s.onerror = function() {\n        console.warn(\"failed to load library \" + url);\n      };\n      console.log(\"Bokeh: injecting script tag for BokehJS library: \", url);\n      document.getElementsByTagName(\"head\")[0].appendChild(s);\n    }\n  };var element = document.getElementById(\"d2c70962-7e4e-4b41-96d9-01b2160ff6b0\");\n  if (element == null) {\n    console.log(\"Bokeh: ERROR: autoload.js configured with elementid 'd2c70962-7e4e-4b41-96d9-01b2160ff6b0' but no matching script tag was found. \")\n    return false;\n  }\n\n  var js_urls = [\"https://cdn.pydata.org/bokeh/release/bokeh-0.12.10.min.js\", \"https://cdn.pydata.org/bokeh/release/bokeh-widgets-0.12.10.min.js\", \"https://cdn.pydata.org/bokeh/release/bokeh-tables-0.12.10.min.js\", \"https://cdn.pydata.org/bokeh/release/bokeh-gl-0.12.10.min.js\"];\n\n  var inline_js = [\n    function(Bokeh) {\n      Bokeh.set_log_level(\"info\");\n    },\n    \n    function(Bokeh) {\n      \n    },\n    function(Bokeh) {\n      console.log(\"Bokeh: injecting CSS: https://cdn.pydata.org/bokeh/release/bokeh-0.12.10.min.css\");\n      Bokeh.embed.inject_css(\"https://cdn.pydata.org/bokeh/release/bokeh-0.12.10.min.css\");\n      console.log(\"Bokeh: injecting CSS: https://cdn.pydata.org/bokeh/release/bokeh-widgets-0.12.10.min.css\");\n      Bokeh.embed.inject_css(\"https://cdn.pydata.org/bokeh/release/bokeh-widgets-0.12.10.min.css\");\n      console.log(\"Bokeh: injecting CSS: https://cdn.pydata.org/bokeh/release/bokeh-tables-0.12.10.min.css\");\n      Bokeh.embed.inject_css(\"https://cdn.pydata.org/bokeh/release/bokeh-tables-0.12.10.min.css\");\n    }\n  ];\n\n  function run_inline_js() {\n    \n    if ((root.Bokeh !== undefined) || (force === true)) {\n      for (var i = 0; i < inline_js.length; i++) {\n        inline_js[i].call(root, root.Bokeh);\n      }if (force === true) {\n        display_loaded();\n      }} else if (Date.now() < root._bokeh_timeout) {\n      setTimeout(run_inline_js, 100);\n    } else if (!root._bokeh_failed_load) {\n      console.log(\"Bokeh: BokehJS failed to load within specified timeout.\");\n      root._bokeh_failed_load = true;\n    } else if (force !== true) {\n      var cell = $(document.getElementById(\"d2c70962-7e4e-4b41-96d9-01b2160ff6b0\")).parents('.cell').data().cell;\n      cell.output_area.append_execute_result(NB_LOAD_WARNING)\n    }\n\n  }\n\n  if (root._bokeh_is_loading === 0) {\n    console.log(\"Bokeh: BokehJS loaded, going straight to plotting\");\n    run_inline_js();\n  } else {\n    load_libs(js_urls, function() {\n      console.log(\"Bokeh: BokehJS plotting callback run at\", now());\n      run_inline_js();\n    });\n  }\n}(window));"
     },
     "metadata": {},
     "output_type": "display_data"
    }
   ],
   "source": [
    "# Standard python helper libraries.\n",
    "import os, sys, time\n",
    "import collections\n",
    "import itertools\n",
    "\n",
    "# Numerical manipulation libraries.\n",
    "import numpy as np\n",
    "from scipy import stats\n",
    "import scipy.optimize\n",
    "\n",
    "# NLTK is the Natural Language Toolkit, and contains several language datasets\n",
    "# as well as implementations of many popular NLP algorithms.\n",
    "# HINT: You should look at what is available here when thinking about your project!\n",
    "import nltk\n",
    "\n",
    "# Helper libraries (see the corresponding py files in this notebook's directory).\n",
    "from w266_common import utils, vocabulary\n",
    "import segment\n",
    "\n",
    "# Bokeh for plotting.\n",
    "import pkgutil\n",
    "if not pkgutil.find_loader(\"bokeh\"): \n",
    "    !pip install bokeh\n",
    "import bokeh.plotting as bp\n",
    "from bokeh.models import HoverTool\n",
    "bp.output_notebook()"
   ]
  },
  {
   "cell_type": "markdown",
   "metadata": {},
   "source": [
    "## Corpus Statistics\n",
    "\n",
    "NLTK includes a number of corpora that we can experiment with for this exercise. Different types of text can have very different N-gram distributions, and some are more difficult to model than others.\n",
    "\n",
    "Let's start with the [Brown corpus](http://www.essex.ac.uk/linguistics/external/clmt/w3c/corpus_ling/content/corpora/list/private/brown/brown.html), the first major computer-readable linguistic corpus. It consists of around 1 million words of American English, sampled from 15 different text categories ranging from news text to academic articles to popular fiction.\n",
    "\n",
    "If you haven't yet run `nltk.download()`, the cell below will download the Brown corpus for you."
   ]
  },
  {
   "cell_type": "code",
   "execution_count": 2,
   "metadata": {},
   "outputs": [
    {
     "name": "stdout",
     "output_type": "stream",
     "text": [
      "[nltk_data] Downloading package brown to /Users/jameskunz/nltk_data...\n",
      "[nltk_data]   Package brown is already up-to-date!\n"
     ]
    },
    {
     "data": {
      "text/plain": [
       "True"
      ]
     },
     "execution_count": 2,
     "metadata": {},
     "output_type": "execute_result"
    }
   ],
   "source": [
    "nltk.download('brown')"
   ]
  },
  {
   "cell_type": "markdown",
   "metadata": {},
   "source": [
    "Let's start by looking at the all the words in the corpus, and looking at some basic statistics.\n",
    "\n",
    "We've built a helper class, `Vocabulary`, that ingests a list of words, counts their frequencies, and assigns each one a numerical ID that will be useful later on."
   ]
  },
  {
   "cell_type": "code",
   "execution_count": 3,
   "metadata": {},
   "outputs": [
    {
     "name": "stdout",
     "output_type": "stream",
     "text": [
      "Vocabulary size: 48174\n",
      "Most common unigrams:\n",
      "\"the\": 69971\n",
      "\",\": 58334\n",
      "\".\": 49346\n",
      "\"of\": 36412\n",
      "\"and\": 28853\n",
      "\"to\": 26158\n",
      "\"a\": 23195\n",
      "\"in\": 21337\n",
      "\"that\": 10594\n",
      "\"is\": 10109\n"
     ]
    }
   ],
   "source": [
    "corpus = nltk.corpus.brown\n",
    "\n",
    "# \"canonicalize_word\" performs a few tweaks to the token stream of\n",
    "# the corpus.  For example, it replaces digits with DG allowing numbers\n",
    "# to aggregate together when we count them below.\n",
    "# You can read the details in utils.py if you're really curious.\n",
    "token_feed = (utils.canonicalize_word(w) for w in corpus.words())\n",
    "\n",
    "# Collect counts of tokens and assign wordids.\n",
    "vocab = vocabulary.Vocabulary(token_feed)\n",
    "print(\"Vocabulary size: %d\" % vocab.size)\n",
    "\n",
    "# Print out some (debugging) statistics to make sure everything went\n",
    "# as we expected.  (Unsurprisingly, you should see \"the\" as the most popular word.)\n",
    "print(\"Most common unigrams:\")\n",
    "for word, count in vocab.unigram_counts.most_common(10):\n",
    "    print(\"\\\"%s\\\": %d\" % (word, count))"
   ]
  },
  {
   "cell_type": "markdown",
   "metadata": {},
   "source": [
    "`Vocabulary.unigram_counts` is a dictionary (actually, `collections.Counter`) of the unigram frequencies $c(w)$. Let's look at a plot of the top frequencies:"
   ]
  },
  {
   "cell_type": "code",
   "execution_count": 4,
   "metadata": {},
   "outputs": [
    {
     "data": {
      "text/html": [
       "\n",
       "<div class=\"bk-root\">\n",
       "    <div class=\"bk-plotdiv\" id=\"4e672ba0-81b5-456d-a199-0c67c58e6a15\"></div>\n",
       "</div>"
      ]
     },
     "metadata": {},
     "output_type": "display_data"
    },
    {
     "data": {
      "application/javascript": [
       "(function(root) {\n",
       "  function embed_document(root) {\n",
       "    var docs_json = {\"cf3360be-6b61-4c23-b6fe-37acf111c242\":{\"roots\":{\"references\":[{\"attributes\":{\"formatter\":{\"id\":\"2563428c-ff58-460e-a5c2-882cff800393\",\"type\":\"CategoricalTickFormatter\"},\"plot\":{\"id\":\"b35a690a-092d-4ebb-8103-d46990ba6744\",\"subtype\":\"Figure\",\"type\":\"Plot\"},\"ticker\":{\"id\":\"068a6b4f-99ab-4295-ae7c-dbb032d81982\",\"type\":\"CategoricalTicker\"}},\"id\":\"7f16fd1a-97bc-41c0-8728-63cc4708009d\",\"type\":\"CategoricalAxis\"},{\"attributes\":{\"callback\":null,\"start\":0},\"id\":\"a2ec7327-a984-4144-9f4e-b034f9889f5a\",\"type\":\"DataRange1d\"},{\"attributes\":{\"callback\":null,\"mode\":\"vline\",\"tooltips\":[[\"word\",\"@x\"],[\"count\",\"@top\"]]},\"id\":\"4cd69d48-843e-40d0-b273-ee596812df60\",\"type\":\"HoverTool\"},{\"attributes\":{\"active_drag\":\"auto\",\"active_inspect\":\"auto\",\"active_scroll\":\"auto\",\"active_tap\":\"auto\",\"tools\":[{\"id\":\"4cd69d48-843e-40d0-b273-ee596812df60\",\"type\":\"HoverTool\"}]},\"id\":\"071fac61-4c92-467e-9b2a-f4e64b12b5b7\",\"type\":\"Toolbar\"},{\"attributes\":{\"callback\":null,\"column_names\":[\"x\",\"top\"],\"data\":{\"top\":[69971,58334,49346,36412,28853,26158,23195,21337,10594,10109,9815,9548,9489,8837,8789,8760,7289,7253,6996,6741],\"x\":[\"the\",\",\",\".\",\"of\",\"and\",\"to\",\"a\",\"in\",\"that\",\"is\",\"was\",\"he\",\"for\",\"``\",\"''\",\"it\",\"with\",\"as\",\"his\",\"on\"]}},\"id\":\"61f4db78-de86-4d17-970f-d1b31b9edfbe\",\"type\":\"ColumnDataSource\"},{\"attributes\":{\"data_source\":{\"id\":\"61f4db78-de86-4d17-970f-d1b31b9edfbe\",\"type\":\"ColumnDataSource\"},\"glyph\":{\"id\":\"103a6725-fb03-4f03-97f2-6f9862a5db1e\",\"type\":\"VBar\"},\"hover_glyph\":{\"id\":\"d57324e2-5c85-4260-a6b3-151341f35c61\",\"type\":\"VBar\"},\"muted_glyph\":null,\"nonselection_glyph\":{\"id\":\"66a52c3f-19b3-463a-b96d-387d22960273\",\"type\":\"VBar\"},\"selection_glyph\":null,\"view\":{\"id\":\"22d8b437-c004-46ff-8a86-925dcdd0520b\",\"type\":\"CDSView\"}},\"id\":\"8a9ce388-1d2e-4134-9f0b-f4b7a33f0c84\",\"type\":\"GlyphRenderer\"},{\"attributes\":{\"plot\":null,\"text\":\"\"},\"id\":\"4de0ec80-2baa-40a5-85a3-073405fc3b32\",\"type\":\"Title\"},{\"attributes\":{},\"id\":\"068a6b4f-99ab-4295-ae7c-dbb032d81982\",\"type\":\"CategoricalTicker\"},{\"attributes\":{},\"id\":\"020ffa71-fcaa-41de-adcb-d50675df5491\",\"type\":\"BasicTickFormatter\"},{\"attributes\":{\"fill_color\":{\"value\":\"firebrick\"},\"line_color\":{\"value\":\"#1f77b4\"},\"top\":{\"field\":\"top\"},\"width\":{\"value\":0.8},\"x\":{\"field\":\"x\"}},\"id\":\"d57324e2-5c85-4260-a6b3-151341f35c61\",\"type\":\"VBar\"},{\"attributes\":{\"source\":{\"id\":\"61f4db78-de86-4d17-970f-d1b31b9edfbe\",\"type\":\"ColumnDataSource\"}},\"id\":\"22d8b437-c004-46ff-8a86-925dcdd0520b\",\"type\":\"CDSView\"},{\"attributes\":{\"fill_alpha\":{\"value\":0.1},\"fill_color\":{\"value\":\"#1f77b4\"},\"line_alpha\":{\"value\":0.1},\"line_color\":{\"value\":\"#1f77b4\"},\"top\":{\"field\":\"top\"},\"width\":{\"value\":0.8},\"x\":{\"field\":\"x\"}},\"id\":\"66a52c3f-19b3-463a-b96d-387d22960273\",\"type\":\"VBar\"},{\"attributes\":{\"plot\":{\"id\":\"b35a690a-092d-4ebb-8103-d46990ba6744\",\"subtype\":\"Figure\",\"type\":\"Plot\"},\"ticker\":{\"id\":\"068a6b4f-99ab-4295-ae7c-dbb032d81982\",\"type\":\"CategoricalTicker\"}},\"id\":\"b0727217-dbb1-4d01-b3b2-6ec6dd1b2f19\",\"type\":\"Grid\"},{\"attributes\":{\"axis_label\":\"Count(w)\",\"formatter\":{\"id\":\"020ffa71-fcaa-41de-adcb-d50675df5491\",\"type\":\"BasicTickFormatter\"},\"plot\":{\"id\":\"b35a690a-092d-4ebb-8103-d46990ba6744\",\"subtype\":\"Figure\",\"type\":\"Plot\"},\"ticker\":{\"id\":\"9963e78f-e3de-4825-96dd-dcca61c90150\",\"type\":\"BasicTicker\"}},\"id\":\"7460728c-5862-4dca-9d8a-e754f45d2a01\",\"type\":\"LinearAxis\"},{\"attributes\":{\"below\":[{\"id\":\"7f16fd1a-97bc-41c0-8728-63cc4708009d\",\"type\":\"CategoricalAxis\"}],\"left\":[{\"id\":\"7460728c-5862-4dca-9d8a-e754f45d2a01\",\"type\":\"LinearAxis\"}],\"plot_height\":400,\"plot_width\":800,\"renderers\":[{\"id\":\"7f16fd1a-97bc-41c0-8728-63cc4708009d\",\"type\":\"CategoricalAxis\"},{\"id\":\"b0727217-dbb1-4d01-b3b2-6ec6dd1b2f19\",\"type\":\"Grid\"},{\"id\":\"7460728c-5862-4dca-9d8a-e754f45d2a01\",\"type\":\"LinearAxis\"},{\"id\":\"18eb712d-ab15-4817-8ed9-1df19e430b14\",\"type\":\"Grid\"},{\"id\":\"8a9ce388-1d2e-4134-9f0b-f4b7a33f0c84\",\"type\":\"GlyphRenderer\"}],\"title\":{\"id\":\"4de0ec80-2baa-40a5-85a3-073405fc3b32\",\"type\":\"Title\"},\"toolbar\":{\"id\":\"071fac61-4c92-467e-9b2a-f4e64b12b5b7\",\"type\":\"Toolbar\"},\"x_range\":{\"id\":\"75d1434f-72fd-4cde-87da-5a12a8021a3d\",\"type\":\"FactorRange\"},\"x_scale\":{\"id\":\"06b08bae-2db3-4209-99f7-290dd703d032\",\"type\":\"CategoricalScale\"},\"y_range\":{\"id\":\"a2ec7327-a984-4144-9f4e-b034f9889f5a\",\"type\":\"DataRange1d\"},\"y_scale\":{\"id\":\"e96ea6a5-78cb-4029-a2b4-18fbc4746e3b\",\"type\":\"LinearScale\"}},\"id\":\"b35a690a-092d-4ebb-8103-d46990ba6744\",\"subtype\":\"Figure\",\"type\":\"Plot\"},{\"attributes\":{},\"id\":\"9963e78f-e3de-4825-96dd-dcca61c90150\",\"type\":\"BasicTicker\"},{\"attributes\":{},\"id\":\"06b08bae-2db3-4209-99f7-290dd703d032\",\"type\":\"CategoricalScale\"},{\"attributes\":{\"dimension\":1,\"plot\":{\"id\":\"b35a690a-092d-4ebb-8103-d46990ba6744\",\"subtype\":\"Figure\",\"type\":\"Plot\"},\"ticker\":{\"id\":\"9963e78f-e3de-4825-96dd-dcca61c90150\",\"type\":\"BasicTicker\"}},\"id\":\"18eb712d-ab15-4817-8ed9-1df19e430b14\",\"type\":\"Grid\"},{\"attributes\":{},\"id\":\"e96ea6a5-78cb-4029-a2b4-18fbc4746e3b\",\"type\":\"LinearScale\"},{\"attributes\":{\"callback\":null,\"factors\":[\"the\",\",\",\".\",\"of\",\"and\",\"to\",\"a\",\"in\",\"that\",\"is\",\"was\",\"he\",\"for\",\"``\",\"''\",\"it\",\"with\",\"as\",\"his\",\"on\"]},\"id\":\"75d1434f-72fd-4cde-87da-5a12a8021a3d\",\"type\":\"FactorRange\"},{\"attributes\":{\"fill_color\":{\"value\":\"#1f77b4\"},\"line_color\":{\"value\":\"#1f77b4\"},\"top\":{\"field\":\"top\"},\"width\":{\"value\":0.8},\"x\":{\"field\":\"x\"}},\"id\":\"103a6725-fb03-4f03-97f2-6f9862a5db1e\",\"type\":\"VBar\"},{\"attributes\":{},\"id\":\"2563428c-ff58-460e-a5c2-882cff800393\",\"type\":\"CategoricalTickFormatter\"}],\"root_ids\":[\"b35a690a-092d-4ebb-8103-d46990ba6744\"]},\"title\":\"Bokeh Application\",\"version\":\"0.12.10\"}};\n",
       "    var render_items = [{\"docid\":\"cf3360be-6b61-4c23-b6fe-37acf111c242\",\"elementid\":\"4e672ba0-81b5-456d-a199-0c67c58e6a15\",\"modelid\":\"b35a690a-092d-4ebb-8103-d46990ba6744\"}];\n",
       "\n",
       "    root.Bokeh.embed.embed_items(docs_json, render_items);\n",
       "  }\n",
       "\n",
       "  if (root.Bokeh !== undefined) {\n",
       "    embed_document(root);\n",
       "  } else {\n",
       "    var attempts = 0;\n",
       "    var timer = setInterval(function(root) {\n",
       "      if (root.Bokeh !== undefined) {\n",
       "        embed_document(root);\n",
       "        clearInterval(timer);\n",
       "      }\n",
       "      attempts++;\n",
       "      if (attempts > 100) {\n",
       "        console.log(\"Bokeh: ERROR: Unable to embed document because BokehJS library is missing\")\n",
       "        clearInterval(timer);\n",
       "      }\n",
       "    }, 10, root)\n",
       "  }\n",
       "})(window);"
      ],
      "application/vnd.bokehjs_exec.v0+json": ""
     },
     "metadata": {
      "application/vnd.bokehjs_exec.v0+json": {
       "id": "b35a690a-092d-4ebb-8103-d46990ba6744"
      }
     },
     "output_type": "display_data"
    }
   ],
   "source": [
    "words, counts = zip(*vocab.unigram_counts.most_common(20))\n",
    "\n",
    "hover = HoverTool(tooltips=[(\"word\", \"@x\"), (\"count\", \"@top\")], mode=\"vline\")\n",
    "fig = bp.figure(x_range=words, plot_width=800, plot_height=400, tools=[hover])\n",
    "fig.vbar(x=words, width=0.8, top=counts, hover_fill_color=\"firebrick\")\n",
    "fig.y_range.start = 0\n",
    "fig.yaxis.axis_label = \"Count(w)\"\n",
    "bp.show(fig)"
   ]
  },
  {
   "cell_type": "markdown",
   "metadata": {},
   "source": [
    "You'll notice that it falls off very quickly! It also flattens out a lot after the initial dip.  Recall that word frequencies tend to follow **Zipf's law**, in that they are rougly proportional to $\\frac{1}{\\mathrm{rank}(w)}$, where rank = 1 for the most common word, 2 for the second-most, etc. We can test this directly with a numerical fit:"
   ]
  },
  {
   "cell_type": "code",
   "execution_count": 5,
   "metadata": {},
   "outputs": [
    {
     "name": "stdout",
     "output_type": "stream",
     "text": [
      "Power law exponent: β = -1.32\n"
     ]
    },
    {
     "name": "stderr",
     "output_type": "stream",
     "text": [
      "/Users/jameskunz/anaconda3/lib/python3.6/site-packages/ipykernel_launcher.py:14: RuntimeWarning: invalid value encountered in log\n",
      "  \n"
     ]
    },
    {
     "data": {
      "text/html": [
       "\n",
       "<div class=\"bk-root\">\n",
       "    <div class=\"bk-plotdiv\" id=\"97c6a9c1-4d55-4745-91df-cdd1b9ce3d77\"></div>\n",
       "</div>"
      ]
     },
     "metadata": {},
     "output_type": "display_data"
    },
    {
     "data": {
      "application/javascript": [
       "(function(root) {\n",
       "  function embed_document(root) {\n",
       "    var docs_json = {\"7a0a84dc-5fb5-487c-8af4-5d342d5fc6b9\":{\"roots\":{\"references\":[{\"attributes\":{\"plot\":null,\"text\":\"\"},\"id\":\"7d0a06ce-38be-40ea-bd37-7f720760ebc6\",\"type\":\"Title\"},{\"attributes\":{\"callback\":null,\"factors\":[\"the\",\",\",\".\",\"of\",\"and\",\"to\",\"a\",\"in\",\"that\",\"is\",\"was\",\"he\",\"for\",\"``\",\"''\",\"it\",\"with\",\"as\",\"his\",\"on\",\"be\",\";\",\"at\",\"by\",\"i\",\"this\",\"had\",\"?\",\"not\",\"are\",\"but\",\"from\",\"or\",\"have\",\"an\",\"they\",\"which\",\"--\",\"one\",\"you\",\"were\",\"her\",\"all\",\"she\",\"there\",\"would\",\"their\",\"we\",\"him\",\"been\",\")\",\"has\",\"(\",\"when\",\"who\",\"will\",\"more\",\"if\",\"no\",\"out\",\"DG\",\"so\",\"said\",\"DGDGDGDG\",\"DGDG\",\"what\",\"up\",\"its\",\"about\",\":\",\"into\",\"than\",\"them\",\"can\",\"only\",\"other\",\"new\",\"some\",\"could\",\"time\",\"!\",\"these\",\"two\",\"may\",\"then\",\"do\",\"first\",\"any\",\"my\",\"now\",\"such\",\"like\",\"our\",\"over\",\"man\",\"me\",\"even\",\"most\",\"made\",\"also\"]},\"id\":\"59ff944d-86e2-4c92-85bd-5e18a35c99db\",\"type\":\"FactorRange\"},{\"attributes\":{},\"id\":\"80a5dd82-e3b3-4b32-9fdd-630a5018b257\",\"type\":\"ResetTool\"},{\"attributes\":{\"callback\":null,\"column_names\":[\"x\",\"y\"],\"data\":{\"x\":[\"the\",\",\",\".\",\"of\",\"and\",\"to\",\"a\",\"in\",\"that\",\"is\",\"was\",\"he\",\"for\",\"``\",\"''\",\"it\",\"with\",\"as\",\"his\",\"on\",\"be\",\";\",\"at\",\"by\",\"i\",\"this\",\"had\",\"?\",\"not\",\"are\",\"but\",\"from\",\"or\",\"have\",\"an\",\"they\",\"which\",\"--\",\"one\",\"you\",\"were\",\"her\",\"all\",\"she\",\"there\",\"would\",\"their\",\"we\",\"him\",\"been\",\")\",\"has\",\"(\",\"when\",\"who\",\"will\",\"more\",\"if\",\"no\",\"out\",\"DG\",\"so\",\"said\",\"DGDGDGDG\",\"DGDG\",\"what\",\"up\",\"its\",\"about\",\":\",\"into\",\"than\",\"them\",\"can\",\"only\",\"other\",\"new\",\"some\",\"could\",\"time\",\"!\",\"these\",\"two\",\"may\",\"then\",\"do\",\"first\",\"any\",\"my\",\"now\",\"such\",\"like\",\"our\",\"over\",\"man\",\"me\",\"even\",\"most\",\"made\",\"also\"],\"y\":{\"__ndarray__\":\"AAAAAPBuE0EAAAAAkDD/QAAAAAAQSPJAAAAAAGAH6UAAAAAAYKfiQAAAAABAV91AAAAAAMDy10AAAAAAwBXUQAAAAADAMtFAAAAAAADwzUAAAAAAAGjKQAAAAACAi8dAAAAAAIAwxUAAAAAAADjDQAAAAACAjMFAAAAAAAAewEAAAAAAAMO9QAAAAAAAmrtAAAAAAAC0uUAAAAAAAAa4QAAAAAAAh7ZAAAAAAAAxtUAAAAAAAPyzQAAAAAAA5bJAAAAAAADosUAAAAAAAAGxQAAAAAAALrBAAAAAAADYrkAAAAAAAHStQAAAAAAAKqxAAAAAAAD6qkAAAAAAAN6pQAAAAAAA2KhAAAAAAADip0AAAAAAAPymQAAAAAAAJqZAAAAAAABepUAAAAAAAKCkQAAAAAAA7qNAAAAAAABIo0AAAAAAAKqiQAAAAAAAFKJAAAAAAACGoUAAAAAAAAKhQAAAAAAAgqBAAAAAAAAKoEAAAAAAACyfQAAAAAAAVJ5AAAAAAACEnUAAAAAAALycQAAAAAAAAJxAAAAAAABMm0AAAAAAAJyaQAAAAAAA+JlAAAAAAABYmUAAAAAAAMCYQAAAAAAAMJhAAAAAAACkl0AAAAAAAByXQAAAAAAAmJZAAAAAAAAclkAAAAAAAKSVQAAAAAAAMJVAAAAAAADElEAAAAAAAFiUQAAAAAAA8JNAAAAAAACMk0AAAAAAACyTQAAAAAAAzJJAAAAAAAB0kkAAAAAAABySQAAAAAAAyJFAAAAAAAB0kUAAAAAAACSRQAAAAAAA2JBAAAAAAACMkEAAAAAAAESQQAAAAAAAAJBAAAAAAAB4j0AAAAAAAPCOQAAAAAAAcI5AAAAAAADwjUAAAAAAAHiNQAAAAAAACI1AAAAAAACQjEAAAAAAACCMQAAAAAAAuItAAAAAAABIi0AAAAAAAOCKQAAAAAAAgIpAAAAAAAAgikAAAAAAAMCJQAAAAAAAYIlAAAAAAAAIiUAAAAAAALCIQAAAAAAAWIhAAAAAAAAAiEAAAAAAALCHQAAAAAAAYIdAAAAAAAAQh0A=\",\"dtype\":\"float64\",\"shape\":[100]}}},\"id\":\"8eca4b06-9d7b-4745-af9a-0a7937cdcc26\",\"type\":\"ColumnDataSource\"},{\"attributes\":{\"fill_color\":{\"value\":\"#1f77b4\"},\"line_color\":{\"value\":\"#1f77b4\"},\"top\":{\"field\":\"top\"},\"width\":{\"value\":0.8},\"x\":{\"field\":\"x\"}},\"id\":\"10dfa18c-95ab-475f-bafe-45641c832679\",\"type\":\"VBar\"},{\"attributes\":{\"active_drag\":\"auto\",\"active_inspect\":\"auto\",\"active_scroll\":\"auto\",\"active_tap\":\"auto\",\"tools\":[{\"id\":\"20847a05-f63c-4142-a7ec-8d8aea5431d5\",\"type\":\"PanTool\"},{\"id\":\"0a3fd166-b7f7-4b52-8f53-c061218f0346\",\"type\":\"WheelZoomTool\"},{\"id\":\"c983d784-5762-43d1-8247-3887af990f7e\",\"type\":\"BoxZoomTool\"},{\"id\":\"1027bef8-82f4-4dfc-be4d-777396b07602\",\"type\":\"SaveTool\"},{\"id\":\"80a5dd82-e3b3-4b32-9fdd-630a5018b257\",\"type\":\"ResetTool\"},{\"id\":\"0192f5ee-b999-4d52-a481-abdc8988ccc9\",\"type\":\"HelpTool\"},{\"id\":\"db7a5e7e-9372-480c-9feb-c2374408dc7c\",\"type\":\"HoverTool\"}]},\"id\":\"0a5a2c73-000a-4861-bc98-a8008a266210\",\"type\":\"Toolbar\"},{\"attributes\":{},\"id\":\"9eef19ba-086d-48ba-b486-c6a1df86c779\",\"type\":\"CategoricalTicker\"},{\"attributes\":{\"overlay\":{\"id\":\"94db69ea-90a0-4211-9b78-bbcd6da630c8\",\"type\":\"BoxAnnotation\"}},\"id\":\"c983d784-5762-43d1-8247-3887af990f7e\",\"type\":\"BoxZoomTool\"},{\"attributes\":{\"axis_label\":\"Count(w)\",\"formatter\":{\"id\":\"778a410d-7422-41ff-b9cf-906983f28212\",\"type\":\"BasicTickFormatter\"},\"plot\":{\"id\":\"e6644b62-3656-481a-83e7-86ea3e57a99f\",\"subtype\":\"Figure\",\"type\":\"Plot\"},\"ticker\":{\"id\":\"43722852-9177-49a4-9b83-f7e69f700d4c\",\"type\":\"BasicTicker\"}},\"id\":\"29b9df03-2125-4873-9b67-cea5843dcc48\",\"type\":\"LinearAxis\"},{\"attributes\":{},\"id\":\"9d5378da-2cb4-42d1-9c12-dd420a6a4a6b\",\"type\":\"CategoricalTickFormatter\"},{\"attributes\":{\"callback\":null,\"column_names\":[\"x\",\"top\"],\"data\":{\"top\":{\"__ndarray__\":\"AAAAADAV8UAAAAAAwHvsQAAAAABAGOhAAAAAAIDH4UAAAAAAQC3cQAAAAACAi9lAAAAAAMCm1kAAAAAAQNbUQAAAAAAAscRAAAAAAIC+w0AAAAAAgCvDQAAAAAAApsJAAAAAAICIwkAAAAAAgELBQAAAAACAKsFAAAAAAAAcwUAAAAAAAHm8QAAAAAAAVbxAAAAAAABUu0AAAAAAAFW6QAAAAAAA6bhAAAAAAAC+tUAAAAAAAPy0QAAAAAAAurRAAAAAAAAstEAAAAAAABm0QAAAAAAADbRAAAAAAABVskAAAAAAAAKyQAAAAAAAKrFAAAAAAAAdsUAAAAAAABKxQAAAAAAAbrBAAAAAAADMrkAAAAAAADitQAAAAAAASKxAAAAAAADSq0AAAAAAANCqQAAAAAAAuKlAAAAAAACsqUAAAAAAAKipQAAAAAAAuKdAAAAAAAByp0AAAAAAAFimQAAAAAAAUKVAAAAAAAA0pUAAAAAAANqkQAAAAAAAuKRAAAAAAAB2pEAAAAAAAFCjQAAAAAAARKNAAAAAAAAKo0AAAAAAAAajQAAAAAAANqJAAAAAAACYoUAAAAAAAIqhQAAAAAAATqFAAAAAAAAsoUAAAAAAALagQAAAAAAAYqBAAAAAAABYn0AAAAAAAASfQAAAAAAApJ5AAAAAAAAgnkAAAAAAAOydQAAAAAAA0J1AAAAAAACInUAAAAAAAAidQAAAAAAAXJxAAAAAAAAMnEAAAAAAAPybQAAAAAAA+JtAAAAAAADwm0AAAAAAALCbQAAAAAAAUJtAAAAAAACYmkAAAAAAAIyZQAAAAAAASJlAAAAAAAAEmUAAAAAAAPiYQAAAAAAA8JhAAAAAAACUmEAAAAAAABCWQAAAAAAA6JVAAAAAAACQlUAAAAAAAEyVQAAAAAAARJVAAAAAAAAAlUAAAAAAAJiUQAAAAAAAiJRAAAAAAABclEAAAAAAADCUQAAAAAAAkJNAAAAAAABQk0AAAAAAANySQAAAAAAAdJJAAAAAAABIkkAAAAAAABySQAAAAAAAlJFAAAAAAAC0kEA=\",\"dtype\":\"float64\",\"shape\":[100]},\"x\":[\"the\",\",\",\".\",\"of\",\"and\",\"to\",\"a\",\"in\",\"that\",\"is\",\"was\",\"he\",\"for\",\"``\",\"''\",\"it\",\"with\",\"as\",\"his\",\"on\",\"be\",\";\",\"at\",\"by\",\"i\",\"this\",\"had\",\"?\",\"not\",\"are\",\"but\",\"from\",\"or\",\"have\",\"an\",\"they\",\"which\",\"--\",\"one\",\"you\",\"were\",\"her\",\"all\",\"she\",\"there\",\"would\",\"their\",\"we\",\"him\",\"been\",\")\",\"has\",\"(\",\"when\",\"who\",\"will\",\"more\",\"if\",\"no\",\"out\",\"DG\",\"so\",\"said\",\"DGDGDGDG\",\"DGDG\",\"what\",\"up\",\"its\",\"about\",\":\",\"into\",\"than\",\"them\",\"can\",\"only\",\"other\",\"new\",\"some\",\"could\",\"time\",\"!\",\"these\",\"two\",\"may\",\"then\",\"do\",\"first\",\"any\",\"my\",\"now\",\"such\",\"like\",\"our\",\"over\",\"man\",\"me\",\"even\",\"most\",\"made\",\"also\"]}},\"id\":\"4d55e64c-5d99-45b5-bc93-dd2485a5fbfe\",\"type\":\"ColumnDataSource\"},{\"attributes\":{\"source\":{\"id\":\"4d55e64c-5d99-45b5-bc93-dd2485a5fbfe\",\"type\":\"ColumnDataSource\"}},\"id\":\"392cb2d6-b58a-40ad-b07c-e2426347e28e\",\"type\":\"CDSView\"},{\"attributes\":{},\"id\":\"43722852-9177-49a4-9b83-f7e69f700d4c\",\"type\":\"BasicTicker\"},{\"attributes\":{\"source\":{\"id\":\"8eca4b06-9d7b-4745-af9a-0a7937cdcc26\",\"type\":\"ColumnDataSource\"}},\"id\":\"9b5f0aaa-c750-4311-93a8-a0f80ebfe9d0\",\"type\":\"CDSView\"},{\"attributes\":{},\"id\":\"1027bef8-82f4-4dfc-be4d-777396b07602\",\"type\":\"SaveTool\"},{\"attributes\":{\"fill_alpha\":{\"value\":0.1},\"fill_color\":{\"value\":\"#1f77b4\"},\"line_alpha\":{\"value\":0.1},\"line_color\":{\"value\":\"#1f77b4\"},\"top\":{\"field\":\"top\"},\"width\":{\"value\":0.8},\"x\":{\"field\":\"x\"}},\"id\":\"8e7c804e-7b85-4650-bac6-67a76a7c4dfe\",\"type\":\"VBar\"},{\"attributes\":{\"callback\":null,\"end\":83965.2,\"start\":0},\"id\":\"73ac7dfa-de7d-491d-8ec1-d3f20e6e1348\",\"type\":\"DataRange1d\"},{\"attributes\":{},\"id\":\"0192f5ee-b999-4d52-a481-abdc8988ccc9\",\"type\":\"HelpTool\"},{\"attributes\":{\"line_alpha\":{\"value\":0.1},\"line_color\":{\"value\":\"#1f77b4\"},\"line_width\":{\"value\":2},\"x\":{\"field\":\"x\"},\"y\":{\"field\":\"y\"}},\"id\":\"663b328e-d2fb-4f98-97d5-fa0520f7d369\",\"type\":\"Line\"},{\"attributes\":{\"below\":[{\"id\":\"59ebf2ac-67cc-42af-9f54-710bbd15f43c\",\"type\":\"CategoricalAxis\"}],\"left\":[{\"id\":\"29b9df03-2125-4873-9b67-cea5843dcc48\",\"type\":\"LinearAxis\"}],\"plot_height\":400,\"plot_width\":800,\"renderers\":[{\"id\":\"59ebf2ac-67cc-42af-9f54-710bbd15f43c\",\"type\":\"CategoricalAxis\"},{\"id\":\"5c8dc162-c5fe-4591-b112-e07593aed76d\",\"type\":\"Grid\"},{\"id\":\"29b9df03-2125-4873-9b67-cea5843dcc48\",\"type\":\"LinearAxis\"},{\"id\":\"79222e03-197c-45c0-b174-d8fd5d08cbb7\",\"type\":\"Grid\"},{\"id\":\"94db69ea-90a0-4211-9b78-bbcd6da630c8\",\"type\":\"BoxAnnotation\"},{\"id\":\"fddf09fc-b7af-427d-9450-07192dff4786\",\"type\":\"GlyphRenderer\"},{\"id\":\"7ece61fc-18a2-4a3b-8f98-70dbe68f8c5c\",\"type\":\"GlyphRenderer\"}],\"title\":{\"id\":\"7d0a06ce-38be-40ea-bd37-7f720760ebc6\",\"type\":\"Title\"},\"toolbar\":{\"id\":\"0a5a2c73-000a-4861-bc98-a8008a266210\",\"type\":\"Toolbar\"},\"x_range\":{\"id\":\"59ff944d-86e2-4c92-85bd-5e18a35c99db\",\"type\":\"FactorRange\"},\"x_scale\":{\"id\":\"41421daf-b9ed-4248-8a6b-669b69e5f0bf\",\"type\":\"CategoricalScale\"},\"y_range\":{\"id\":\"73ac7dfa-de7d-491d-8ec1-d3f20e6e1348\",\"type\":\"DataRange1d\"},\"y_scale\":{\"id\":\"b1fb669d-1a5b-4ff9-b03c-49ac2642500f\",\"type\":\"LinearScale\"}},\"id\":\"e6644b62-3656-481a-83e7-86ea3e57a99f\",\"subtype\":\"Figure\",\"type\":\"Plot\"},{\"attributes\":{\"grid_line_alpha\":{\"value\":0.5},\"plot\":{\"id\":\"e6644b62-3656-481a-83e7-86ea3e57a99f\",\"subtype\":\"Figure\",\"type\":\"Plot\"},\"ticker\":{\"id\":\"9eef19ba-086d-48ba-b486-c6a1df86c779\",\"type\":\"CategoricalTicker\"}},\"id\":\"5c8dc162-c5fe-4591-b112-e07593aed76d\",\"type\":\"Grid\"},{\"attributes\":{\"callback\":null,\"mode\":\"vline\",\"renderers\":[{\"id\":\"fddf09fc-b7af-427d-9450-07192dff4786\",\"type\":\"GlyphRenderer\"}],\"tooltips\":[[\"word\",\"@x\"],[\"count\",\"@top\"]]},\"id\":\"db7a5e7e-9372-480c-9feb-c2374408dc7c\",\"type\":\"HoverTool\"},{\"attributes\":{\"fill_color\":{\"value\":\"firebrick\"},\"line_color\":{\"value\":\"#1f77b4\"},\"top\":{\"field\":\"top\"},\"width\":{\"value\":0.8},\"x\":{\"field\":\"x\"}},\"id\":\"0d8350a2-1e4c-4283-a803-ed0f6ee16c0a\",\"type\":\"VBar\"},{\"attributes\":{\"bottom_units\":\"screen\",\"fill_alpha\":{\"value\":0.5},\"fill_color\":{\"value\":\"lightgrey\"},\"left_units\":\"screen\",\"level\":\"overlay\",\"line_alpha\":{\"value\":1.0},\"line_color\":{\"value\":\"black\"},\"line_dash\":[4,4],\"line_width\":{\"value\":2},\"plot\":null,\"render_mode\":\"css\",\"right_units\":\"screen\",\"top_units\":\"screen\"},\"id\":\"94db69ea-90a0-4211-9b78-bbcd6da630c8\",\"type\":\"BoxAnnotation\"},{\"attributes\":{},\"id\":\"778a410d-7422-41ff-b9cf-906983f28212\",\"type\":\"BasicTickFormatter\"},{\"attributes\":{\"line_color\":{\"value\":\"Orange\"},\"line_width\":{\"value\":2},\"x\":{\"field\":\"x\"},\"y\":{\"field\":\"y\"}},\"id\":\"a46d31ec-ac62-4918-acbf-56a95408929f\",\"type\":\"Line\"},{\"attributes\":{},\"id\":\"b1fb669d-1a5b-4ff9-b03c-49ac2642500f\",\"type\":\"LinearScale\"},{\"attributes\":{\"data_source\":{\"id\":\"8eca4b06-9d7b-4745-af9a-0a7937cdcc26\",\"type\":\"ColumnDataSource\"},\"glyph\":{\"id\":\"a46d31ec-ac62-4918-acbf-56a95408929f\",\"type\":\"Line\"},\"hover_glyph\":null,\"muted_glyph\":null,\"nonselection_glyph\":{\"id\":\"663b328e-d2fb-4f98-97d5-fa0520f7d369\",\"type\":\"Line\"},\"selection_glyph\":null,\"view\":{\"id\":\"9b5f0aaa-c750-4311-93a8-a0f80ebfe9d0\",\"type\":\"CDSView\"}},\"id\":\"7ece61fc-18a2-4a3b-8f98-70dbe68f8c5c\",\"type\":\"GlyphRenderer\"},{\"attributes\":{\"formatter\":{\"id\":\"9d5378da-2cb4-42d1-9c12-dd420a6a4a6b\",\"type\":\"CategoricalTickFormatter\"},\"plot\":{\"id\":\"e6644b62-3656-481a-83e7-86ea3e57a99f\",\"subtype\":\"Figure\",\"type\":\"Plot\"},\"ticker\":{\"id\":\"9eef19ba-086d-48ba-b486-c6a1df86c779\",\"type\":\"CategoricalTicker\"}},\"id\":\"59ebf2ac-67cc-42af-9f54-710bbd15f43c\",\"type\":\"CategoricalAxis\"},{\"attributes\":{},\"id\":\"0a3fd166-b7f7-4b52-8f53-c061218f0346\",\"type\":\"WheelZoomTool\"},{\"attributes\":{\"data_source\":{\"id\":\"4d55e64c-5d99-45b5-bc93-dd2485a5fbfe\",\"type\":\"ColumnDataSource\"},\"glyph\":{\"id\":\"10dfa18c-95ab-475f-bafe-45641c832679\",\"type\":\"VBar\"},\"hover_glyph\":{\"id\":\"0d8350a2-1e4c-4283-a803-ed0f6ee16c0a\",\"type\":\"VBar\"},\"muted_glyph\":null,\"nonselection_glyph\":{\"id\":\"8e7c804e-7b85-4650-bac6-67a76a7c4dfe\",\"type\":\"VBar\"},\"selection_glyph\":null,\"view\":{\"id\":\"392cb2d6-b58a-40ad-b07c-e2426347e28e\",\"type\":\"CDSView\"}},\"id\":\"fddf09fc-b7af-427d-9450-07192dff4786\",\"type\":\"GlyphRenderer\"},{\"attributes\":{},\"id\":\"20847a05-f63c-4142-a7ec-8d8aea5431d5\",\"type\":\"PanTool\"},{\"attributes\":{},\"id\":\"41421daf-b9ed-4248-8a6b-669b69e5f0bf\",\"type\":\"CategoricalScale\"},{\"attributes\":{\"dimension\":1,\"plot\":{\"id\":\"e6644b62-3656-481a-83e7-86ea3e57a99f\",\"subtype\":\"Figure\",\"type\":\"Plot\"},\"ticker\":{\"id\":\"43722852-9177-49a4-9b83-f7e69f700d4c\",\"type\":\"BasicTicker\"}},\"id\":\"79222e03-197c-45c0-b174-d8fd5d08cbb7\",\"type\":\"Grid\"}],\"root_ids\":[\"e6644b62-3656-481a-83e7-86ea3e57a99f\"]},\"title\":\"Bokeh Application\",\"version\":\"0.12.10\"}};\n",
       "    var render_items = [{\"docid\":\"7a0a84dc-5fb5-487c-8af4-5d342d5fc6b9\",\"elementid\":\"97c6a9c1-4d55-4745-91df-cdd1b9ce3d77\",\"modelid\":\"e6644b62-3656-481a-83e7-86ea3e57a99f\"}];\n",
       "\n",
       "    root.Bokeh.embed.embed_items(docs_json, render_items);\n",
       "  }\n",
       "\n",
       "  if (root.Bokeh !== undefined) {\n",
       "    embed_document(root);\n",
       "  } else {\n",
       "    var attempts = 0;\n",
       "    var timer = setInterval(function(root) {\n",
       "      if (root.Bokeh !== undefined) {\n",
       "        embed_document(root);\n",
       "        clearInterval(timer);\n",
       "      }\n",
       "      attempts++;\n",
       "      if (attempts > 100) {\n",
       "        console.log(\"Bokeh: ERROR: Unable to embed document because BokehJS library is missing\")\n",
       "        clearInterval(timer);\n",
       "      }\n",
       "    }, 10, root)\n",
       "  }\n",
       "})(window);"
      ],
      "application/vnd.bokehjs_exec.v0+json": ""
     },
     "metadata": {
      "application/vnd.bokehjs_exec.v0+json": {
       "id": "e6644b62-3656-481a-83e7-86ea3e57a99f"
      }
     },
     "output_type": "display_data"
    }
   ],
   "source": [
    "# This next line splits the pairs of <word, count> in the vocabulary into two lists:\n",
    "# 1.  a list of words (types)\n",
    "# 2.  a list of counts (per type)\n",
    "# with the property that the ith word in the list has its corresponding count in the ith counts.\n",
    "words, counts = zip(*vocab.unigram_counts.most_common(vocab.size))\n",
    "counts = np.array(counts, dtype=float)  # Avoid integer math.\n",
    "rank = 1 + np.arange(len(counts))  # rank is an array of [1, 2, 3, 4, ..., num_types]\n",
    "N = np.sum(counts)  # N = total # of tokens seen.\n",
    "p = counts / N  # p is an array the length of `words`.  #_times_word_seen / total_#_words\n",
    "\n",
    "# Fit a power law curve to the histogram above.\n",
    "# Optimize least-squares in log space.\n",
    "# See http://nlp.stanford.edu/IR-book/html/htmledition/zipfs-law-modeling-the-distribution-of-terms-1.html\n",
    "fit_func = lambda c: (np.log(c[0]*p) - np.log(c[0] * rank**c[1]))\n",
    "(a,b), _ = scipy.optimize.leastsq(fit_func, np.array([p[0], -1.0]))\n",
    "print(u\"Power law exponent: \\u03B2 = %.02f\" % b)\n",
    "p_pred = (a * rank**b) / sum(a * rank**b)  # predict probabilities\n",
    "c_pred = N * p_pred  # predict counts\n",
    "\n",
    "\n",
    "# Plot counts, with fit curve.\n",
    "nplot = 100\n",
    "fig = bp.figure(x_range=words[:nplot], plot_width=800, plot_height=400)\n",
    "bars = fig.vbar(x=words[:nplot], width=0.8, top=counts[:nplot], hover_fill_color=\"firebrick\")\n",
    "fig.add_tools(HoverTool(tooltips=[(\"word\", \"@x\"), (\"count\", \"@top\")], renderers=[bars], mode=\"vline\"))\n",
    "fig.line(x=words[:nplot], y=np.round(c_pred)[:nplot], color=\"Orange\", line_width=2)\n",
    "fig.y_range.start = 0\n",
    "fig.y_range.end = 1.2*max(counts)\n",
    "fig.yaxis.axis_label = \"Count(w)\"\n",
    "fig.xgrid.grid_line_alpha = 0.5\n",
    "bp.show(fig)"
   ]
  },
  {
   "cell_type": "markdown",
   "metadata": {},
   "source": [
    "Why should we care about the form of this distribution? Power-law distributions like [Zipf's law](https://en.wikipedia.org/wiki/Zipf%E2%80%93Mandelbrot_law) have a **long tail**, which means that a large fraction of the tokens (words on the page) belong to types (words in the dictionary) that appear quite rarely. \n",
    "\n",
    "We can look at this directly by plotting the cumulative distribution function, *as a function of the count* $c(w)$:\n",
    "\n",
    "$$ f(k) = \\sum_{i \\in \\text{words}}^{|\\text{corpus}|} \\mathbf{1}\\{c(w_i) <= k\\} = \\sum_{j \\in \\text{types}}^{|V|} c(w_j)\\ \\mathbf{1}\\{c(w_j) <= k\\} $$\n",
    "\n",
    "This asks: for a given word on the page, how likely is $c(w) <= k$?\n",
    "\n",
    "The Brown corpus has about 1 million words (tokens), about 7% of which are the token \"the\" and 6% of which are commas. So, we'll plot our data on a log scale so that we can see what's going on for $k= 1, ..., 100$, as well as the higher counts ($c(\\text{the}) = 6.9 \\cdot 10^4$)."
   ]
  },
  {
   "cell_type": "code",
   "execution_count": 6,
   "metadata": {},
   "outputs": [
    {
     "data": {
      "text/html": [
       "\n",
       "<div class=\"bk-root\">\n",
       "    <div class=\"bk-plotdiv\" id=\"97986214-a00b-4e65-873e-51e339e11c5f\"></div>\n",
       "</div>"
      ]
     },
     "metadata": {},
     "output_type": "display_data"
    },
    {
     "data": {
      "application/javascript": [
       "(function(root) {\n",
       "  function embed_document(root) {\n",
       "    var docs_json = {\"cac79f52-f3b7-405d-bf48-28fd7a290c6e\":{\"roots\":{\"references\":[{\"attributes\":{\"data_source\":{\"id\":\"59fa399b-1344-4953-8ef5-885582e70044\",\"type\":\"ColumnDataSource\"},\"glyph\":{\"id\":\"8f442f33-b61a-418e-b5ad-fcba0b411beb\",\"type\":\"Line\"},\"hover_glyph\":null,\"muted_glyph\":null,\"nonselection_glyph\":{\"id\":\"28021fe0-a242-43cf-81e1-c03d7adb5605\",\"type\":\"Line\"},\"selection_glyph\":null,\"view\":{\"id\":\"5d9d4639-1d6d-49ca-b567-df02d4aac70a\",\"type\":\"CDSView\"}},\"id\":\"7eb2d8fa-4889-4ead-9169-2d03dd0c67ec\",\"type\":\"GlyphRenderer\"},{\"attributes\":{},\"id\":\"c5f7500f-ae79-47ff-a05b-7232c66c081a\",\"type\":\"ResetTool\"},{\"attributes\":{},\"id\":\"f49c0b9b-68e3-4460-839b-2d0f9b401307\",\"type\":\"BasicTickFormatter\"},{\"attributes\":{\"below\":[{\"id\":\"50f8521d-9716-4cbd-bbc0-78c298ad6dd1\",\"type\":\"LogAxis\"}],\"left\":[{\"id\":\"b7a02846-73f8-4cef-b4c1-0368ea0da7fd\",\"type\":\"LinearAxis\"}],\"plot_height\":400,\"plot_width\":800,\"renderers\":[{\"id\":\"50f8521d-9716-4cbd-bbc0-78c298ad6dd1\",\"type\":\"LogAxis\"},{\"id\":\"c9b78c13-50e8-4bce-9c45-32b9d6934268\",\"type\":\"Grid\"},{\"id\":\"b7a02846-73f8-4cef-b4c1-0368ea0da7fd\",\"type\":\"LinearAxis\"},{\"id\":\"86c38ed0-3b24-4ea9-b3b6-5b37d43e4618\",\"type\":\"Grid\"},{\"id\":\"ae323ed2-0dc1-4c83-a4cd-3930dc0dc2c2\",\"type\":\"BoxAnnotation\"},{\"id\":\"7eb2d8fa-4889-4ead-9169-2d03dd0c67ec\",\"type\":\"GlyphRenderer\"},{\"id\":\"055c5114-dc95-41c8-b039-ecd7fa626c6d\",\"type\":\"GlyphRenderer\"}],\"title\":{\"id\":\"75b6e621-d71d-453c-88de-0c660f93051d\",\"type\":\"Title\"},\"toolbar\":{\"id\":\"2cedbb14-18a6-4d70-8de6-0b9d85b30b03\",\"type\":\"Toolbar\"},\"x_range\":{\"id\":\"5daa613c-d124-4fa9-8f03-56566463f2b8\",\"type\":\"DataRange1d\"},\"x_scale\":{\"id\":\"54e327b6-fda0-47cf-8961-817a5ca97328\",\"type\":\"LogScale\"},\"y_range\":{\"id\":\"7802bc5d-b17e-4791-9723-af3518c1b660\",\"type\":\"DataRange1d\"},\"y_scale\":{\"id\":\"4a626b5a-6226-42d6-ad06-5d581d5f98b5\",\"type\":\"LinearScale\"}},\"id\":\"58e9714e-4f0e-4c96-a6d4-d3b21b7e6f86\",\"subtype\":\"Figure\",\"type\":\"Plot\"},{\"attributes\":{\"active_drag\":\"auto\",\"active_inspect\":\"auto\",\"active_scroll\":\"auto\",\"active_tap\":\"auto\",\"tools\":[{\"id\":\"d6266c18-18de-40ac-b7c9-ebd5a2eebe57\",\"type\":\"PanTool\"},{\"id\":\"bdbd314a-45e1-4972-9f9c-f25b8ad82dc2\",\"type\":\"WheelZoomTool\"},{\"id\":\"1d8e6b0d-d504-47a9-9d55-2ac00a1e4bd6\",\"type\":\"BoxZoomTool\"},{\"id\":\"ce199d2a-b906-4b10-9cda-5cc9e33a0a51\",\"type\":\"SaveTool\"},{\"id\":\"c5f7500f-ae79-47ff-a05b-7232c66c081a\",\"type\":\"ResetTool\"},{\"id\":\"631ef28a-2157-4d02-b27b-da7224088b54\",\"type\":\"HelpTool\"},{\"id\":\"d5f3e153-22ee-4cec-8386-23256b88710e\",\"type\":\"HoverTool\"}]},\"id\":\"2cedbb14-18a6-4d70-8de6-0b9d85b30b03\",\"type\":\"Toolbar\"},{\"attributes\":{\"callback\":null},\"id\":\"5daa613c-d124-4fa9-8f03-56566463f2b8\",\"type\":\"DataRange1d\"},{\"attributes\":{\"source\":{\"id\":\"821b6f0b-224e-4a26-950c-8d53b3f22635\",\"type\":\"ColumnDataSource\"}},\"id\":\"4ca02789-4ff7-4939-af16-63e46960a950\",\"type\":\"CDSView\"},{\"attributes\":{\"callback\":null,\"column_names\":[\"x\",\"y\"],\"data\":{\"x\":{\"__ndarray__\":\"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\",\"dtype\":\"float64\",\"shape\":[559]},\"y\":{\"__ndarray__\":\"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\",\"dtype\":\"float64\",\"shape\":[559]}}},\"id\":\"59fa399b-1344-4953-8ef5-885582e70044\",\"type\":\"ColumnDataSource\"},{\"attributes\":{\"plot\":null,\"text\":\"Cumulative Word Counts\"},\"id\":\"75b6e621-d71d-453c-88de-0c660f93051d\",\"type\":\"Title\"},{\"attributes\":{\"num_minor_ticks\":10},\"id\":\"d7c6f9ed-c2f5-48dc-b129-71107e48d122\",\"type\":\"LogTicker\"},{\"attributes\":{},\"id\":\"54e327b6-fda0-47cf-8961-817a5ca97328\",\"type\":\"LogScale\"},{\"attributes\":{\"callback\":null,\"column_names\":[\"x\",\"y\"],\"data\":{\"x\":{\"__ndarray__\":\"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\",\"dtype\":\"float64\",\"shape\":[559]},\"y\":{\"__ndarray__\":\"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\",\"dtype\":\"float64\",\"shape\":[559]}}},\"id\":\"821b6f0b-224e-4a26-950c-8d53b3f22635\",\"type\":\"ColumnDataSource\"},{\"attributes\":{\"line_alpha\":{\"value\":0.1},\"line_color\":{\"value\":\"#1f77b4\"},\"line_width\":{\"value\":2},\"x\":{\"field\":\"x\"},\"y\":{\"field\":\"y\"}},\"id\":\"28021fe0-a242-43cf-81e1-c03d7adb5605\",\"type\":\"Line\"},{\"attributes\":{\"fill_color\":{\"value\":\"white\"},\"line_color\":{\"value\":\"#1f77b4\"},\"x\":{\"field\":\"x\"},\"y\":{\"field\":\"y\"}},\"id\":\"61f877e2-36a1-4b8d-864e-ee1341fa81cf\",\"type\":\"Circle\"},{\"attributes\":{\"axis_label\":\"p(Count(w) < c)\",\"formatter\":{\"id\":\"f49c0b9b-68e3-4460-839b-2d0f9b401307\",\"type\":\"BasicTickFormatter\"},\"plot\":{\"id\":\"58e9714e-4f0e-4c96-a6d4-d3b21b7e6f86\",\"subtype\":\"Figure\",\"type\":\"Plot\"},\"ticker\":{\"id\":\"fd4b5364-4c80-4766-9e3a-ee3a5bf16ef1\",\"type\":\"BasicTicker\"}},\"id\":\"b7a02846-73f8-4cef-b4c1-0368ea0da7fd\",\"type\":\"LinearAxis\"},{\"attributes\":{\"dimension\":1,\"plot\":{\"id\":\"58e9714e-4f0e-4c96-a6d4-d3b21b7e6f86\",\"subtype\":\"Figure\",\"type\":\"Plot\"},\"ticker\":{\"id\":\"fd4b5364-4c80-4766-9e3a-ee3a5bf16ef1\",\"type\":\"BasicTicker\"}},\"id\":\"86c38ed0-3b24-4ea9-b3b6-5b37d43e4618\",\"type\":\"Grid\"},{\"attributes\":{\"line_color\":{\"value\":\"#1f77b4\"},\"line_width\":{\"value\":2},\"x\":{\"field\":\"x\"},\"y\":{\"field\":\"y\"}},\"id\":\"8f442f33-b61a-418e-b5ad-fcba0b411beb\",\"type\":\"Line\"},{\"attributes\":{\"source\":{\"id\":\"59fa399b-1344-4953-8ef5-885582e70044\",\"type\":\"ColumnDataSource\"}},\"id\":\"5d9d4639-1d6d-49ca-b567-df02d4aac70a\",\"type\":\"CDSView\"},{\"attributes\":{\"callback\":null,\"mode\":\"vline\",\"renderers\":[{\"id\":\"7eb2d8fa-4889-4ead-9169-2d03dd0c67ec\",\"type\":\"GlyphRenderer\"}],\"tooltips\":[[\"count\",\"@x\"],[\"CDF\",\"@y\"]]},\"id\":\"d5f3e153-22ee-4cec-8386-23256b88710e\",\"type\":\"HoverTool\"},{\"attributes\":{},\"id\":\"ce199d2a-b906-4b10-9cda-5cc9e33a0a51\",\"type\":\"SaveTool\"},{\"attributes\":{\"axis_label\":\"Count (log-scale)\",\"formatter\":{\"id\":\"f7cdd770-d4f7-4fe1-9fdb-fbc99729761e\",\"type\":\"LogTickFormatter\"},\"plot\":{\"id\":\"58e9714e-4f0e-4c96-a6d4-d3b21b7e6f86\",\"subtype\":\"Figure\",\"type\":\"Plot\"},\"ticker\":{\"id\":\"d7c6f9ed-c2f5-48dc-b129-71107e48d122\",\"type\":\"LogTicker\"}},\"id\":\"50f8521d-9716-4cbd-bbc0-78c298ad6dd1\",\"type\":\"LogAxis\"},{\"attributes\":{},\"id\":\"631ef28a-2157-4d02-b27b-da7224088b54\",\"type\":\"HelpTool\"},{\"attributes\":{\"overlay\":{\"id\":\"ae323ed2-0dc1-4c83-a4cd-3930dc0dc2c2\",\"type\":\"BoxAnnotation\"}},\"id\":\"1d8e6b0d-d504-47a9-9d55-2ac00a1e4bd6\",\"type\":\"BoxZoomTool\"},{\"attributes\":{},\"id\":\"d6266c18-18de-40ac-b7c9-ebd5a2eebe57\",\"type\":\"PanTool\"},{\"attributes\":{\"bottom_units\":\"screen\",\"fill_alpha\":{\"value\":0.5},\"fill_color\":{\"value\":\"lightgrey\"},\"left_units\":\"screen\",\"level\":\"overlay\",\"line_alpha\":{\"value\":1.0},\"line_color\":{\"value\":\"black\"},\"line_dash\":[4,4],\"line_width\":{\"value\":2},\"plot\":null,\"render_mode\":\"css\",\"right_units\":\"screen\",\"top_units\":\"screen\"},\"id\":\"ae323ed2-0dc1-4c83-a4cd-3930dc0dc2c2\",\"type\":\"BoxAnnotation\"},{\"attributes\":{\"callback\":null,\"start\":0},\"id\":\"7802bc5d-b17e-4791-9723-af3518c1b660\",\"type\":\"DataRange1d\"},{\"attributes\":{},\"id\":\"4a626b5a-6226-42d6-ad06-5d581d5f98b5\",\"type\":\"LinearScale\"},{\"attributes\":{\"plot\":{\"id\":\"58e9714e-4f0e-4c96-a6d4-d3b21b7e6f86\",\"subtype\":\"Figure\",\"type\":\"Plot\"},\"ticker\":{\"id\":\"d7c6f9ed-c2f5-48dc-b129-71107e48d122\",\"type\":\"LogTicker\"}},\"id\":\"c9b78c13-50e8-4bce-9c45-32b9d6934268\",\"type\":\"Grid\"},{\"attributes\":{\"ticker\":null},\"id\":\"f7cdd770-d4f7-4fe1-9fdb-fbc99729761e\",\"type\":\"LogTickFormatter\"},{\"attributes\":{},\"id\":\"fd4b5364-4c80-4766-9e3a-ee3a5bf16ef1\",\"type\":\"BasicTicker\"},{\"attributes\":{\"fill_alpha\":{\"value\":0.1},\"fill_color\":{\"value\":\"#1f77b4\"},\"line_alpha\":{\"value\":0.1},\"line_color\":{\"value\":\"#1f77b4\"},\"x\":{\"field\":\"x\"},\"y\":{\"field\":\"y\"}},\"id\":\"48747c4a-d4a0-4e2a-bf39-f0958fa54222\",\"type\":\"Circle\"},{\"attributes\":{},\"id\":\"bdbd314a-45e1-4972-9f9c-f25b8ad82dc2\",\"type\":\"WheelZoomTool\"},{\"attributes\":{\"data_source\":{\"id\":\"821b6f0b-224e-4a26-950c-8d53b3f22635\",\"type\":\"ColumnDataSource\"},\"glyph\":{\"id\":\"61f877e2-36a1-4b8d-864e-ee1341fa81cf\",\"type\":\"Circle\"},\"hover_glyph\":null,\"muted_glyph\":null,\"nonselection_glyph\":{\"id\":\"48747c4a-d4a0-4e2a-bf39-f0958fa54222\",\"type\":\"Circle\"},\"selection_glyph\":null,\"view\":{\"id\":\"4ca02789-4ff7-4939-af16-63e46960a950\",\"type\":\"CDSView\"}},\"id\":\"055c5114-dc95-41c8-b039-ecd7fa626c6d\",\"type\":\"GlyphRenderer\"}],\"root_ids\":[\"58e9714e-4f0e-4c96-a6d4-d3b21b7e6f86\"]},\"title\":\"Bokeh Application\",\"version\":\"0.12.10\"}};\n",
       "    var render_items = [{\"docid\":\"cac79f52-f3b7-405d-bf48-28fd7a290c6e\",\"elementid\":\"97986214-a00b-4e65-873e-51e339e11c5f\",\"modelid\":\"58e9714e-4f0e-4c96-a6d4-d3b21b7e6f86\"}];\n",
       "\n",
       "    root.Bokeh.embed.embed_items(docs_json, render_items);\n",
       "  }\n",
       "\n",
       "  if (root.Bokeh !== undefined) {\n",
       "    embed_document(root);\n",
       "  } else {\n",
       "    var attempts = 0;\n",
       "    var timer = setInterval(function(root) {\n",
       "      if (root.Bokeh !== undefined) {\n",
       "        embed_document(root);\n",
       "        clearInterval(timer);\n",
       "      }\n",
       "      attempts++;\n",
       "      if (attempts > 100) {\n",
       "        console.log(\"Bokeh: ERROR: Unable to embed document because BokehJS library is missing\")\n",
       "        clearInterval(timer);\n",
       "      }\n",
       "    }, 10, root)\n",
       "  }\n",
       "})(window);"
      ],
      "application/vnd.bokehjs_exec.v0+json": ""
     },
     "metadata": {
      "application/vnd.bokehjs_exec.v0+json": {
       "id": "58e9714e-4f0e-4c96-a6d4-d3b21b7e6f86"
      }
     },
     "output_type": "display_data"
    }
   ],
   "source": [
    "# We'll use the histogram function with variable bins in order to get a stair-step plot.\n",
    "b_shift = 0.5  # So counts don't fall on bin boundaries.\n",
    "# Weights give us distribution by token; remove this to get distribution by type.\n",
    "h, bins = np.histogram(counts, weights=counts, bins=b_shift+np.concatenate([[0], np.unique(counts)]))\n",
    "\n",
    "fig = bp.figure(plot_width=800, plot_height=400, x_axis_type=\"log\", title=\"Cumulative Word Counts\")\n",
    "l = fig.line(x=bins[1:]-b_shift, y=np.cumsum(1.0*h)/np.sum(h), line_width=2)\n",
    "fig.circle(x=bins[1:]-b_shift, y=np.cumsum(1.0*h)/np.sum(h), fill_color=\"white\", size=4)\n",
    "fig.add_tools(HoverTool(tooltips=[(\"count\", \"@x\"), (\"CDF\", \"@y\")], renderers=[l], mode=\"vline\"))\n",
    "fig.y_range.start = 0\n",
    "fig.yaxis.axis_label = \"p(Count(w) < c)\"\n",
    "fig.xaxis.axis_label = \"Count (log-scale)\"\n",
    "bp.show(fig)"
   ]
  },
  {
   "cell_type": "markdown",
   "metadata": {},
   "source": [
    "**Exercise:** the cell above plots the distribution based on *tokens*, or words on the page. Modify the histogram code to make a similar plot, but based on *types*, or distinct words in the vocabulary. If we pick a random word in the dictionary, how many times are we likely to see it in a 1M word corpus?\n",
    "\n",
    "**Exercise (more involved):** compute the same function for the bigram and trigram distributions, and overlay it on a version of the plot above. (This should be similar to a graph from the async.) What does this tell you about the sparsity problem?"
   ]
  },
  {
   "cell_type": "markdown",
   "metadata": {},
   "source": [
    "# Language Modeling\n",
    "\n",
    "With a basic idea of what our corpus looks like, we can now embark on the task of modeling it. Recall from the async that language modeling is the task of predicting the next word, given the preceding history:\n",
    "\n",
    "$$ P(w_i | w_{i-1}, ..., w_0)$$\n",
    "\n",
    "## Perplexity\n",
    "\n",
    "How hard is this task? Let's use the unigram distribution as a starting point for our model. We saw that the distribution is very uneven - some words (types) are very common, while others are very rare. If the corpus (or a sample thereof) is our test set, we're going to see our training labels according to the distribution $y \\sim p(w)$. A smarter model might take some features such as immediately previous words and do a better job estimating the next word (let's call such features $x$ in general). We can summarize how uncertain our model is by looking at the entropy:"
   ]
  },
  {
   "cell_type": "code",
   "execution_count": 7,
   "metadata": {},
   "outputs": [
    {
     "name": "stdout",
     "output_type": "stream",
     "text": [
      "Unigram entropy: 10.066 bits\n"
     ]
    }
   ],
   "source": [
    "print(\"Unigram entropy: %.03f bits\" % stats.entropy(p, base=2))"
   ]
  },
  {
   "cell_type": "markdown",
   "metadata": {},
   "source": [
    "Bits are still a little unintuitive, but we can do better. Recall from Assignment 1 that the entropy of a _uniform_ distribution over $n$ elements is $ \\log_2 n $. So given some distribution with entropy $H(P) = k$ bits we can say that distribution $P$ is _as uncertain as_ a uniform distribution over $2^k$ elements.\n",
    "\n",
    "If we apply this to our unigram distribution, we have:"
   ]
  },
  {
   "cell_type": "code",
   "execution_count": 8,
   "metadata": {},
   "outputs": [
    {
     "name": "stdout",
     "output_type": "stream",
     "text": [
      "Distinct unigrams: 48171\n",
      "As uncertain as:   1071.78\n"
     ]
    }
   ],
   "source": [
    "print(\"Distinct unigrams: %d\" % len(p))\n",
    "print(\"As uncertain as:   %.02f\" % (2**stats.entropy(p, base=2)))"
   ]
  },
  {
   "cell_type": "markdown",
   "metadata": {},
   "source": [
    "Now in the (real) machine learning setting, we can't really measure the entropy of the underlying distribution $P(y\\ |\\ x) = P(w_i | w_{i-1}, ..., w_0)$. But, we can approximate the cross-entropy between the true distribution (for which we have samples $y_i \\sim P(y\\ |\\ x_i)$) and our _predicted_ distribution $\\hat{P}(y\\ |\\ x_i)$:\n",
    "\n",
    "$$ \\text{CE}(P, \\hat{P}) = - \\sum_{y,x} P(y\\ |\\ x) \\log_2 \\hat{P}(y\\ |\\ x) \\approx - \\frac{1}{N} \\sum_{i}^N \\log_2 \\hat{P}(y_i\\ |\\ x_i)$$\n",
    "\n",
    "This has the same units (bits), and we can exponentiate it in the same way to give us a measure of \"how confused\" the model is. This quantity is the **perplexity** of the model. A perplexity of $k$ tells us that the model is as uncertain as if it had to choose from $k$ elements with equal probability.\n",
    "\n",
    "So suppose we used the unigram model as our language model. We'll cheat for now and just use $\\hat{P}_{\\text{unigram}}(w) = \\tilde{p}(w) $ (where $\\tilde{p}$ denotes an estimate from a finite sample). Then our (training set) perplexity is:"
   ]
  },
  {
   "cell_type": "code",
   "execution_count": 9,
   "metadata": {},
   "outputs": [
    {
     "name": "stdout",
     "output_type": "stream",
     "text": [
      "Unigram language model\n",
      "Expected full-corpus perplexity: 1071.78\n"
     ]
    }
   ],
   "source": [
    "# scipy.stats.entropy with two arguments\n",
    "def cross_entropy(p, q):\n",
    "    return -1*np.sum(p * np.log2(q))\n",
    "\n",
    "print(\"Unigram language model\")\n",
    "print(\"Expected full-corpus perplexity: %.02f\" % (2**cross_entropy(p, q=p)))"
   ]
  },
  {
   "cell_type": "markdown",
   "metadata": {},
   "source": [
    "If we want to sanity-check it, we can do our usual machine learning loss calculation: look at all the examples (words), and take the average loss:"
   ]
  },
  {
   "cell_type": "code",
   "execution_count": 10,
   "metadata": {},
   "outputs": [
    {
     "name": "stdout",
     "output_type": "stream",
     "text": [
      "Perplexity (full-corpus): 1071.78\n"
     ]
    }
   ],
   "source": [
    "word_to_prob = {w:p[i] for i,w in enumerate(words)}\n",
    "probs = [word_to_prob[utils.canonicalize_word(w)] \n",
    "         for w in corpus.words()]\n",
    "perplexity = 2**(-1*np.sum(np.log2(probs))/len(probs))\n",
    "print(\"Perplexity (full-corpus): %.02f\" % perplexity)"
   ]
  },
  {
   "cell_type": "markdown",
   "metadata": {},
   "source": [
    "In the two cells below, we test out our simple model by taking a piece of text with all the spaces removed, enumerating all possible ways of splitting it (efficiently using dynamic programming - more on that later in the course), scoring each, and then returning the highest scoring sequence.\n",
    "\n",
    "You can see we can apply even this **really** simple model to a neat application[1]!\n",
    "\n",
    "[1] Peter Norvig, a director of research at Google implemented this model here:  http://norvig.com/ngrams/ch14.pdf and extends it pretty far.  By the end, he has managed to decrypt WWI encryption using only this simple language model!"
   ]
  },
  {
   "cell_type": "code",
   "execution_count": 11,
   "metadata": {},
   "outputs": [
    {
     "data": {
      "text/plain": [
       "['hello', 'there', 'how', 'are', 'you']"
      ]
     },
     "execution_count": 11,
     "metadata": {},
     "output_type": "execute_result"
    }
   ],
   "source": [
    "segment.segment('hellotherehowareyou', vocab)"
   ]
  },
  {
   "cell_type": "code",
   "execution_count": 12,
   "metadata": {},
   "outputs": [
    {
     "data": {
      "text/plain": [
       "['dance', 'a', 'jig']"
      ]
     },
     "execution_count": 12,
     "metadata": {},
     "output_type": "execute_result"
    }
   ],
   "source": [
    "segment.segment('danceajig', vocab)"
   ]
  },
  {
   "cell_type": "code",
   "execution_count": 13,
   "metadata": {},
   "outputs": [
    {
     "data": {
      "text/plain": [
       "['the', 'cat', 'in', 'the', 'hat']"
      ]
     },
     "execution_count": 13,
     "metadata": {},
     "output_type": "execute_result"
    }
   ],
   "source": [
    "segment.segment('thecatinthehat', vocab)"
   ]
  },
  {
   "cell_type": "markdown",
   "metadata": {},
   "source": [
    "## N-Gram Language Models\n",
    "\n",
    "The unigram model isn't a very good one - it doesn't model any previous context at all. On the other hand, we can't model _all_ of the preceding words, because that history could get prohibitively long and extremely sparse. As a compromise, we'll make a _Markov assumption_ and limit ourselves to a finite history of $n$ words.\n",
    "\n",
    "For now, we'll build a trigram model, which considers the two preceding words:\n",
    "\n",
    "$$ P(w_i\\ |\\ w_{i-1}, ..., w_0) \\approx P(w_i\\ |\\ w_{i-1}, w_{i-2}) $$\n",
    "\n",
    "**Exercise:** how many possible trigrams are there?\n",
    "\n",
    "We'll need to store a table of the probabilities, indexed by triples $(w_i, w_{i-1}, w_{i-2})$. If we store every possible combination, it can get quite large. Assuming 8 bytes for each entry, we have:"
   ]
  },
  {
   "cell_type": "code",
   "execution_count": 14,
   "metadata": {},
   "outputs": [
    {
     "name": "stdout",
     "output_type": "stream",
     "text": [
      "Vocab size: 48174 words\n",
      "Unigrams need: 376.359 KB\n",
      "Bigrams need:  17705.8 MB\n",
      "Trirams need:  8.52959e+08 MB\n",
      "Available:     6416.34 MB\n"
     ]
    }
   ],
   "source": [
    "import psutil\n",
    "print(\"Vocab size: %d words\" % (vocab.size))\n",
    "print(\"Unigrams need: %g KB\" % (8 * (vocab.size ** 1) / (2**10)))\n",
    "print(\"Bigrams need:  %g MB\" % (8 * (vocab.size ** 2) / (2**20)))\n",
    "print(\"Trirams need:  %g MB\" % (8 * (vocab.size ** 3) / (2**20)))\n",
    "print(\"Available:     %g MB\" % (psutil.virtual_memory().available / (2**20)))"
   ]
  },
  {
   "cell_type": "markdown",
   "metadata": {},
   "source": [
    "Well, that's no good. We can store all possible unigrams, but after that we're toast.\n",
    "\n",
    "Thankfully, we don't have to store everything. Recall that most words only appear a handful of times, and that there are plenty of words in the English language that we don't see in our corpus at all. For bigrams and trigrams, the table will be quite sparse. We need only store the entries that we actually observe; the rest we can take to be zero, or estimate their values on the fly through smoothing or backoff.\n",
    "\n",
    "**Observation:** When building language models, be sure to only keep non-zero counts in your datastructures and assume anything missing is 0.\n",
    "\n",
    "**Exercise:** for a corpus of 1 million words and a vocabulary of 10000, what is the maximum number of bigrams that can be actually _observed_? How about trigrams?"
   ]
  },
  {
   "cell_type": "markdown",
   "metadata": {},
   "source": [
    "### Constructing our Model\n",
    "\n",
    "We'll represent our model with a nested map `context => word => probability`, where word is $w_i$ and for our trigram model, the context is the two preceding words $(w_{i-2}, w_{i-1})$.\n",
    "\n",
    "First, we'll go through the corpus and compute raw trigram counts $c(abc)$, which we'll then normalize into probabilities:\n",
    "\n",
    "$$  P_{abc} = P(w_i = c\\ |\\ w_{i-1} = b, w_{i-2} = a) = \\frac{\\mathrm{c(abc)}}{\\sum_{c'}\\mathrm{c(abc')}} = \\frac{C_{abc}}{\\sum_{c'} C_{abc'}} $$\n",
    "\n",
    "Here's the code for our model:"
   ]
  },
  {
   "cell_type": "code",
   "execution_count": 15,
   "metadata": {
    "collapsed": true
   },
   "outputs": [],
   "source": [
    "from collections import defaultdict\n",
    "\n",
    "def normalize_counter(c):\n",
    "    \"\"\"Given a dictionary of <item, counts>, return <item, fraction>.\"\"\"\n",
    "    total = sum(c.values())\n",
    "    return {w:float(c[w])/total for w in c}\n",
    "\n",
    "class SimpleTrigramLM(object):\n",
    "    def __init__(self, words):\n",
    "        \"\"\"Build our simple trigram model.\"\"\"\n",
    "        # Raw trigram counts over the corpus. \n",
    "        # c(w | w_1 w_2) = self.counts[(w_2,w_1)][w]\n",
    "        self.counts = defaultdict(lambda: defaultdict(lambda: 0.0))\n",
    "    \n",
    "        # Iterate through the word stream once.\n",
    "        w_1, w_2 = None, None\n",
    "        for word in words:\n",
    "            if w_1 is not None and w_2 is not None:\n",
    "                # Increment trigram count.\n",
    "                self.counts[(w_2,w_1)][word] += 1\n",
    "            # Shift context along the stream of words.\n",
    "            w_2 = w_1\n",
    "            w_1 = word\n",
    "            \n",
    "        # Normalize so that for each context we have a valid probability\n",
    "        # distribution (i.e. adds up to 1.0) of possible next tokens.\n",
    "        self.probas = defaultdict(lambda: defaultdict(lambda: 0.0))\n",
    "        for context, ctr in self.counts.items():\n",
    "            self.probas[context] = normalize_counter(ctr)\n",
    "            \n",
    "    def next_word_proba(self, word, seq):\n",
    "        \"\"\"Compute p(word | seq)\"\"\"\n",
    "        context = tuple(seq[-2:])  # last two words\n",
    "        return self.probas[context].get(word, 0.0)\n",
    "    \n",
    "    def predict_next(self, seq):\n",
    "        \"\"\"Sample a word from the conditional distribution.\"\"\"\n",
    "        context = tuple(seq[-2:])  # last two words\n",
    "        pc = self.probas[context]  # conditional distribution\n",
    "        words, probs = zip(*pc.items())  # convert to list\n",
    "        return np.random.choice(words, p=probs)\n",
    "    \n",
    "    def score_seq(self, seq, verbose=False):\n",
    "        \"\"\"Compute log probability (base 2) of the given sequence.\"\"\"\n",
    "        score = 0.0\n",
    "        count = 0\n",
    "        # Start at third word, since we need a full context.\n",
    "        for i in range(2, len(seq)):\n",
    "            if (seq[i] == \"<s>\" or seq[i] == \"</s>\"):\n",
    "                continue  # Don't count special tokens in score.\n",
    "            s = np.log2(self.next_word_proba(seq[i], seq[i-2:i]))\n",
    "            score += s\n",
    "            count += 1\n",
    "            # DEBUG\n",
    "            if verbose:\n",
    "                print(\"log P(%s | %s) = %.03f\" % (seq[i], \" \".join(seq[i-2:i]), s))\n",
    "        return score, count\n"
   ]
  },
  {
   "cell_type": "markdown",
   "metadata": {},
   "source": [
    "### Training\n",
    "\n",
    "Let's train our model. We'll do a proper train-test split this time, so we can evaluate on unseen data. This means that we also have to fix our vocabulary based on the *training* set - which means that some unseen words in the test set will get replaced by `<unk>`. The `Vocabulary` helper class will take care of this for us."
   ]
  },
  {
   "cell_type": "code",
   "execution_count": 16,
   "metadata": {},
   "outputs": [
    {
     "name": "stdout",
     "output_type": "stream",
     "text": [
      "Loaded 57,340 sentences (1.16119e+06 tokens)\n",
      "Training set: 45,872 sentences (929,539 tokens)\n",
      "Test set: 11,468 sentences (231,653 tokens)\n"
     ]
    }
   ],
   "source": [
    "train_sents, test_sents = utils.get_train_test_sents(corpus, split=0.8, shuffle=True)"
   ]
  },
  {
   "cell_type": "code",
   "execution_count": 17,
   "metadata": {},
   "outputs": [
    {
     "name": "stdout",
     "output_type": "stream",
     "text": [
      "Train set vocabulary: 43707 words\n"
     ]
    }
   ],
   "source": [
    "vocab = vocabulary.Vocabulary(utils.canonicalize_word(w) for w in utils.flatten(train_sents))\n",
    "print(\"Train set vocabulary: %d words\" % vocab.size)"
   ]
  },
  {
   "cell_type": "markdown",
   "metadata": {},
   "source": [
    "#### A note on Preprocessing\n",
    "\n",
    "We didn't do this for the unigram LM, but when modeling sentences it's helpful to add special beginning-of-sentence (`<s>`) and end-of-sentence (`</s>`) tokens. \n",
    "\n",
    "This lets the model estimate the probability of a word appearing at the beginning of a sentence, and lets it model the end of a sentence properly, since periods or other punctuation aren't always an accurate guide (e.g. `\"Dr.\"` or `\"Yahoo!\"`).\n",
    "\n",
    "Our padded sentences will look like this:\n",
    "```\n",
    "<s> <s> the cat sat in the hat . </s>\n",
    "```\n",
    "**Exercise:** why do we add two `<s>` tokens at the beginning? (*Hint: this is specific to our trigram model.*)"
   ]
  },
  {
   "cell_type": "code",
   "execution_count": 18,
   "metadata": {},
   "outputs": [
    {
     "name": "stdout",
     "output_type": "stream",
     "text": [
      "Building trigram LM...\n",
      "done in 2.71 s\n"
     ]
    }
   ],
   "source": [
    "def sents_to_tokens(sents):\n",
    "    \"\"\"Returns an flattened list of the words in the sentences, with padding for a trigram model.\"\"\"\n",
    "    padded_sentences = ([\"<s>\", \"<s>\"] + s + [\"</s>\"] for s in sents)\n",
    "    # This will canonicalize words, and replace anything not in vocab with <unk>\n",
    "    return np.array([utils.canonicalize_word(w, wordset=vocab.wordset) \n",
    "                     for w in utils.flatten(padded_sentences)], dtype=object)\n",
    "\n",
    "train_tokens = sents_to_tokens(train_sents)\n",
    "test_tokens = sents_to_tokens(test_sents)\n",
    "\n",
    "t0 = time.time()\n",
    "print(\"Building trigram LM...\",)\n",
    "lm = SimpleTrigramLM(train_tokens)\n",
    "print(\"done in %.02f s\" % (time.time() - t0))"
   ]
  },
  {
   "cell_type": "markdown",
   "metadata": {},
   "source": [
    "## Sampling Sentences\n",
    "\n",
    "Before we run scoring, let's look at some generated sentences from our model. We'll generate them sequentially, one token at a time:"
   ]
  },
  {
   "cell_type": "code",
   "execution_count": 19,
   "metadata": {},
   "outputs": [
    {
     "name": "stdout",
     "output_type": "stream",
     "text": [
      "<s> <s> `` jake carwood . </s>\n",
      "[4 tokens; log P(seq): -15.49]\n",
      "\n",
      "<s> <s> ( `` i requisitioned DGDGDGDGDG '' . </s>\n",
      "[7 tokens; log P(seq): -26.85]\n",
      "\n",
      "<s> <s> a generation ago of the world . </s>\n",
      "[7 tokens; log P(seq): -27.26]\n",
      "\n",
      "<s> <s> even harriet could boldly write , move in restless self-pity between her broken heart and wanting for once to franz\n",
      "[20 tokens; log P(seq): -34.28]\n",
      "\n",
      "<s> <s> but there was nothing else the sounds of the berlin state opera . </s>\n",
      "[13 tokens; log P(seq): -41.68]\n",
      "\n"
     ]
    }
   ],
   "source": [
    "max_length = 20\n",
    "num_sentences = 5\n",
    "\n",
    "for _ in range(num_sentences):\n",
    "    seq = [\"<s>\", \"<s>\"]\n",
    "    for i in range(max_length):\n",
    "        seq.append(lm.predict_next(seq))\n",
    "        # Stop at end-of-sentence\n",
    "        if seq[-1] == \"</s>\": break\n",
    "    print(\" \".join(seq))\n",
    "    print(\"[{1:d} tokens; log P(seq): {0:.02f}]\".format(*lm.score_seq(seq)))\n",
    "    print(\"\")"
   ]
  },
  {
   "cell_type": "markdown",
   "metadata": {},
   "source": [
    "## Scoring our model\n",
    "\n",
    "We'll score our model by running the `score_seq` function, which computes \n",
    "\n",
    "$$ \\text{CE}_{\\text{total}}(y, \\hat{y}) = \\sum_{i=2}^N \\log_2 \\hat{p}(w_i\\ |\\ w_{i-1}, w_{i-2}) $$\n",
    "\n",
    "This is the cross-entropy loss, which is equal to $-1$ times the log-likelihood of the data under our model. As usual, we'll exponentiate to get the perplexity score:"
   ]
  },
  {
   "cell_type": "code",
   "execution_count": 20,
   "metadata": {},
   "outputs": [
    {
     "name": "stdout",
     "output_type": "stream",
     "text": [
      "Train perplexity: 7.44\n"
     ]
    },
    {
     "name": "stderr",
     "output_type": "stream",
     "text": [
      "/Users/jameskunz/anaconda3/lib/python3.6/site-packages/ipykernel_launcher.py:51: RuntimeWarning: divide by zero encountered in log2\n"
     ]
    },
    {
     "name": "stdout",
     "output_type": "stream",
     "text": [
      "Test perplexity: inf\n"
     ]
    }
   ],
   "source": [
    "log_p_data, num_real_tokens = lm.score_seq(train_tokens)\n",
    "print(\"Train perplexity: %.02f\" % (2**(-1*log_p_data/num_real_tokens)))\n",
    "\n",
    "log_p_data, num_real_tokens = lm.score_seq(test_tokens)\n",
    "print(\"Test perplexity: %.02f\" % (2**(-1*log_p_data/num_real_tokens)))"
   ]
  },
  {
   "cell_type": "markdown",
   "metadata": {},
   "source": [
    "What's going on here? Our model gets an absurdly low perplexity on the training data, but a perplexity of _infinity_ on the test data.\n",
    "\n",
    "**Answer:** the n-gram model badly overfits without any smoothing."
   ]
  },
  {
   "cell_type": "markdown",
   "metadata": {},
   "source": [
    "## Smoothing and Handling the Unknown\n",
    "\n",
    "Our simple model doesn't have any real mechanism for handling unknown words - if we feed something unseen to `score_seq`, it will assign it a probability of zero:"
   ]
  },
  {
   "cell_type": "code",
   "execution_count": 21,
   "metadata": {},
   "outputs": [
    {
     "name": "stderr",
     "output_type": "stream",
     "text": [
      "/Users/jameskunz/anaconda3/lib/python3.6/site-packages/ipykernel_launcher.py:51: RuntimeWarning: divide by zero encountered in log2\n"
     ]
    },
    {
     "data": {
      "text/plain": [
       "-inf"
      ]
     },
     "execution_count": 21,
     "metadata": {},
     "output_type": "execute_result"
    }
   ],
   "source": [
    "lm.score_seq([\"<s>\", \"i\", \"love\", \"w266\", \"</s>\"])[0]"
   ]
  },
  {
   "cell_type": "markdown",
   "metadata": {},
   "source": [
    "This is the cause of the infinite perplexity, above: $\\log_2 0 = -\\infty $. \n",
    "\n",
    "**Exercise:** besides unknown words, when else would the un-smoothed trigram model predict $p(w\\ |\\ w_{i-1}, w_{i-2}) = 0$ ?\n",
    "\n",
    "Is assuming zero probabilities realistic? Let's look back at our unigram distribution:"
   ]
  },
  {
   "cell_type": "code",
   "execution_count": 22,
   "metadata": {},
   "outputs": [
    {
     "name": "stdout",
     "output_type": "stream",
     "text": [
      "% words seen only once: 1.80%\n"
     ]
    }
   ],
   "source": [
    "print(\"%% words seen only once: %.02f%%\" % (100.0 * sum(counts * (counts == 1)) / sum(counts)))"
   ]
  },
  {
   "cell_type": "markdown",
   "metadata": {},
   "source": [
    "About 1 in 50 words were seen only once in our corpus, so we might expect a comparable fraction of words in a new sample to also be previously-unseen:"
   ]
  },
  {
   "cell_type": "code",
   "execution_count": 23,
   "metadata": {},
   "outputs": [
    {
     "name": "stdout",
     "output_type": "stream",
     "text": [
      "% <unk> in test set: 1.83%\n"
     ]
    }
   ],
   "source": [
    "print(\"%% <unk> in test set: %.02f%%\" % (np.sum(np.array(test_tokens) == \"<unk>\") * 100.0 / len(test_tokens)))"
   ]
  },
  {
   "cell_type": "markdown",
   "metadata": {},
   "source": [
    "If we want to use our language model in the wild, we'll need to implement some kind of smoothing to hedge our bets whenever these come up. This will be a major focus of Assignment 2, in which you'll build on the `SimpleTrigramLM` by implementing Laplace (add-k) and Kneser-Ney smoothing."
   ]
  }
 ],
 "metadata": {
  "anaconda-cloud": {},
  "kernelspec": {
   "display_name": "Python 3",
   "language": "python",
   "name": "python3"
  },
  "language_info": {
   "codemirror_mode": {
    "name": "ipython",
    "version": 3
   },
   "file_extension": ".py",
   "mimetype": "text/x-python",
   "name": "python",
   "nbconvert_exporter": "python",
   "pygments_lexer": "ipython3",
   "version": "3.6.3"
  }
 },
 "nbformat": 4,
 "nbformat_minor": 1
}
